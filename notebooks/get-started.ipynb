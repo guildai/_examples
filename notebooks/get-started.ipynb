{
 "cells": [
  {
   "cell_type": "markdown",
   "metadata": {},
   "source": [
    "# Guild AI Quick Start\n",
    "\n",
    "This Notebook mirrors the steps in [Guild AI Quick Start](https://guild.ai/docs/start/):\n",
    "\n",
    "- Part 1 - Experiment basics\n",
    "    - Create a mock training function\n",
    "    - Generate a run with Guild\n",
    "    - Examine the run\n",
    "    - Generate a second run\n",
    "    - Compare runs\n",
    "- Part 2 - Hyperparameter optimization"
   ]
  },
  {
   "cell_type": "markdown",
   "metadata": {},
   "source": [
    "## Notebooks config\n",
    "\n",
    "Modify the variables below to change Notebook configuration."
   ]
  },
  {
   "cell_type": "markdown",
   "metadata": {},
   "source": [
    "`GULID_HOME` is the location of generated runs. By default it is the location subdirectory \"guild-env\". Note that we initialize this directory below by permanently deleting any runs it contains before proceeding. If you don't want to delete runs in `GUILD_HOME`, set `DELETE_RUNS_ON_INIT` to `False` below."
   ]
  },
  {
   "cell_type": "code",
   "execution_count": 150,
   "metadata": {},
   "outputs": [],
   "source": [
    "GUILD_HOME = \"guild-env\""
   ]
  },
  {
   "cell_type": "markdown",
   "metadata": {},
   "source": [
    "`DELETE_RUNS_ON_INIT` determines whether or not runs are initially deleted from `GUILD_HOME` below. As this Notebook is for demonstration purposes, it's usually a good idea to delete any existing runs before proceeding. To prevent any runs from being deleted, set `DELETE_RUNS_ON_INIT` to `False`."
   ]
  },
  {
   "cell_type": "code",
   "execution_count": 151,
   "metadata": {},
   "outputs": [],
   "source": [
    "DELETE_RUNS_ON_INIT = True"
   ]
  },
  {
   "cell_type": "markdown",
   "metadata": {},
   "source": [
    "## Guild interactive Python API\n",
    "\n",
    "Guild AI functionality is available through a Notebook compatible interface defined in `guild.ipy`.\n",
    "\n",
    "Import this module as `guild`:"
   ]
  },
  {
   "cell_type": "code",
   "execution_count": 188,
   "metadata": {},
   "outputs": [],
   "source": [
    "import guild.ipy as guild"
   ]
  },
  {
   "cell_type": "markdown",
   "metadata": {},
   "source": [
    "## Initialize Guild Home\n",
    "\n",
    "Guild home is a directory containing the runs that Guild generates. This Notebook uses the directory defined by `GUILD_HOME`. Ensure that the directory exists and use `set_guild_home()` to set the value. "
   ]
  },
  {
   "cell_type": "code",
   "execution_count": 153,
   "metadata": {},
   "outputs": [],
   "source": [
    "import os\n",
    "\n",
    "if not os.path.exists(GUILD_HOME):\n",
    "    os.mkdir(\"guild-env\")\n",
    "    \n",
    "guild.set_guild_home(\"guild-env\")"
   ]
  },
  {
   "cell_type": "markdown",
   "metadata": {},
   "source": [
    "Clear the director of any runs."
   ]
  },
  {
   "cell_type": "code",
   "execution_count": 154,
   "metadata": {},
   "outputs": [
    {
     "name": "stdout",
     "output_type": "stream",
     "text": [
      "Deleted 3 run(s)\n"
     ]
    }
   ],
   "source": [
    "if DELETE_RUNS_ON_INIT:\n",
    "    deleted = guild.runs().delete(permanent=True)\n",
    "    print(\"Deleted %i run(s)\" % len(deleted))"
   ]
  },
  {
   "cell_type": "markdown",
   "metadata": {},
   "source": [
    "## Mock training function\n",
    "\n",
    "Create a mock training script. This function doesn’t actually train anything, but simulates the training process of accepting hyperparameters as inputs and generating a loss."
   ]
  },
  {
   "cell_type": "code",
   "execution_count": 174,
   "metadata": {},
   "outputs": [],
   "source": [
    "import numpy as np\n",
    "\n",
    "def train(x=0.1, noise=0.1):\n",
    "    loss = (np.sin(5 * x) * (1 - np.tanh(x ** 2)) + np.random.randn() * noise)\n",
    "    print(\"loss: %f\" % loss)"
   ]
  },
  {
   "cell_type": "markdown",
   "metadata": {},
   "source": [
    "Run the mock training function a couple times to see how it works.\n",
    "\n",
    "**NOTE:** The function uses a random component to simulate training \"noise\". This causes the results to differ across runs."
   ]
  },
  {
   "cell_type": "code",
   "execution_count": 175,
   "metadata": {},
   "outputs": [
    {
     "name": "stdout",
     "output_type": "stream",
     "text": [
      "Trial 1:\n",
      "loss: -0.055170\n"
     ]
    }
   ],
   "source": [
    "print(\"Trial 1:\")\n",
    "train(x=-2.0)"
   ]
  },
  {
   "cell_type": "code",
   "execution_count": 176,
   "metadata": {},
   "outputs": [
    {
     "name": "stdout",
     "output_type": "stream",
     "text": [
      "Trial 2:\n",
      "loss: -0.050035\n"
     ]
    }
   ],
   "source": [
    "print(\"Trial 2:\")\n",
    "train(x=0.0)"
   ]
  },
  {
   "cell_type": "code",
   "execution_count": 177,
   "metadata": {},
   "outputs": [
    {
     "name": "stdout",
     "output_type": "stream",
     "text": [
      "Trial 3:\n",
      "loss: 0.015354\n"
     ]
    }
   ],
   "source": [
    "print(\"Trial 3:\")\n",
    "train(x=2.0)"
   ]
  },
  {
   "cell_type": "markdown",
   "metadata": {},
   "source": [
    "## Generate a run"
   ]
  },
  {
   "cell_type": "markdown",
   "metadata": {},
   "source": [
    "Run the mock train function using Guild."
   ]
  },
  {
   "cell_type": "code",
   "execution_count": 178,
   "metadata": {},
   "outputs": [
    {
     "name": "stdout",
     "output_type": "stream",
     "text": [
      "loss: 0.654873\n"
     ]
    }
   ],
   "source": [
    "run, return_val = guild.run(train)"
   ]
  },
  {
   "cell_type": "markdown",
   "metadata": {},
   "source": [
    "The `run()` function returns a tuple of the Guild run and the return value of the function.\n",
    "\n",
    "In this case, our mock training function doesn't return a value."
   ]
  },
  {
   "cell_type": "code",
   "execution_count": 179,
   "metadata": {},
   "outputs": [
    {
     "name": "stdout",
     "output_type": "stream",
     "text": [
      "None\n"
     ]
    }
   ],
   "source": [
    "print(return_val)"
   ]
  },
  {
   "cell_type": "markdown",
   "metadata": {},
   "source": [
    "The `run` variable is a Guild object that represents the run."
   ]
  },
  {
   "cell_type": "markdown",
   "metadata": {},
   "source": [
    "## Examine the run"
   ]
  },
  {
   "cell_type": "markdown",
   "metadata": {},
   "source": [
    "We can work with the run object directly to get information about it."
   ]
  },
  {
   "cell_type": "markdown",
   "metadata": {},
   "source": [
    "Each run has a uniqiue ID:"
   ]
  },
  {
   "cell_type": "code",
   "execution_count": 180,
   "metadata": {},
   "outputs": [
    {
     "data": {
      "text/plain": [
       "'6fcca5d6778511e9950fc85b764bbf34'"
      ]
     },
     "execution_count": 180,
     "metadata": {},
     "output_type": "execute_result"
    }
   ],
   "source": [
    "run.id"
   ]
  },
  {
   "cell_type": "markdown",
   "metadata": {},
   "source": [
    "Each run is associated with a unique directory, which includes the ID. The run directory contains metadata and output associated with the run."
   ]
  },
  {
   "cell_type": "code",
   "execution_count": 181,
   "metadata": {},
   "outputs": [
    {
     "data": {
      "text/plain": [
       "'guild-env/runs/6fcca5d6778511e9950fc85b764bbf34'"
      ]
     },
     "execution_count": 181,
     "metadata": {},
     "output_type": "execute_result"
    }
   ],
   "source": [
    "run.dir"
   ]
  },
  {
   "cell_type": "markdown",
   "metadata": {},
   "source": [
    "Runs have *attributes*. You can list the attribute names using `attr_names()`:"
   ]
  },
  {
   "cell_type": "code",
   "execution_count": 182,
   "metadata": {},
   "outputs": [
    {
     "data": {
      "text/plain": [
       "['exit_status', 'flags', 'id', 'initialized', 'started', 'stopped']"
      ]
     },
     "execution_count": 182,
     "metadata": {},
     "output_type": "execute_result"
    }
   ],
   "source": [
    "run.attr_names()"
   ]
  },
  {
   "cell_type": "markdown",
   "metadata": {},
   "source": [
    "Read an attribute value using `get()`. For example, to read the *flags* attribute, use:"
   ]
  },
  {
   "cell_type": "code",
   "execution_count": 183,
   "metadata": {},
   "outputs": [
    {
     "data": {
      "text/plain": [
       "{'noise': 0.1, 'x': 0.1}"
      ]
     },
     "execution_count": 183,
     "metadata": {},
     "output_type": "execute_result"
    }
   ],
   "source": [
    "run.get(\"flags\")"
   ]
  },
  {
   "cell_type": "markdown",
   "metadata": {},
   "source": [
    "Flags are values provided to the function. In this case, both values are provided as function keyword default values. Later you run `train` using different flag values."
   ]
  },
  {
   "cell_type": "markdown",
   "metadata": {},
   "source": [
    "Each run has a *status*, which indicates if the run is still running and whether or not it completed successfully or terminated with an error."
   ]
  },
  {
   "cell_type": "code",
   "execution_count": 184,
   "metadata": {},
   "outputs": [
    {
     "data": {
      "text/plain": [
       "'completed'"
      ]
     },
     "execution_count": 184,
     "metadata": {},
     "output_type": "execute_result"
    }
   ],
   "source": [
    "run.status"
   ]
  },
  {
   "cell_type": "markdown",
   "metadata": {},
   "source": [
    "## List runs"
   ]
  },
  {
   "cell_type": "markdown",
   "metadata": {},
   "source": [
    "List runs using `guild.runs()`:"
   ]
  },
  {
   "cell_type": "code",
   "execution_count": 185,
   "metadata": {},
   "outputs": [
    {
     "data": {
      "text/html": [
       "<div>\n",
       "<style scoped>\n",
       "    .dataframe tbody tr th:only-of-type {\n",
       "        vertical-align: middle;\n",
       "    }\n",
       "\n",
       "    .dataframe tbody tr th {\n",
       "        vertical-align: top;\n",
       "    }\n",
       "\n",
       "    .dataframe thead th {\n",
       "        text-align: right;\n",
       "    }\n",
       "</style>\n",
       "<table border=\"1\" class=\"dataframe\">\n",
       "  <thead>\n",
       "    <tr style=\"text-align: right;\">\n",
       "      <th></th>\n",
       "      <th>run</th>\n",
       "      <th>operation</th>\n",
       "      <th>started</th>\n",
       "      <th>status</th>\n",
       "      <th>label</th>\n",
       "    </tr>\n",
       "  </thead>\n",
       "  <tbody>\n",
       "    <tr>\n",
       "      <th>0</th>\n",
       "      <td>6fcca5d6</td>\n",
       "      <td>train()</td>\n",
       "      <td>2019-05-15 21:51:00</td>\n",
       "      <td>completed</td>\n",
       "      <td></td>\n",
       "    </tr>\n",
       "    <tr>\n",
       "      <th>1</th>\n",
       "      <td>f836e0cc</td>\n",
       "      <td>train()</td>\n",
       "      <td>2019-05-15 21:47:39</td>\n",
       "      <td>completed</td>\n",
       "      <td></td>\n",
       "    </tr>\n",
       "  </tbody>\n",
       "</table>\n",
       "</div>"
      ],
      "text/plain": [
       "        run operation             started     status label\n",
       "0  6fcca5d6   train() 2019-05-15 21:51:00  completed      \n",
       "1  f836e0cc   train() 2019-05-15 21:47:39  completed      "
      ]
     },
     "execution_count": 185,
     "metadata": {},
     "output_type": "execute_result"
    }
   ],
   "source": [
    "runs = guild.runs()\n",
    "runs"
   ]
  },
  {
   "cell_type": "markdown",
   "metadata": {},
   "source": [
    "Each time you run an operation, the run appears in this list."
   ]
  },
  {
   "cell_type": "markdown",
   "metadata": {},
   "source": [
    "## Print run info"
   ]
  },
  {
   "cell_type": "markdown",
   "metadata": {},
   "source": [
    "From `runs`, we can print information for the latest run using `runs.info()`."
   ]
  },
  {
   "cell_type": "code",
   "execution_count": 186,
   "metadata": {},
   "outputs": [
    {
     "name": "stdout",
     "output_type": "stream",
     "text": [
      "id: 6fcca5d6778511e9950fc85b764bbf34\n",
      "operation: train()\n",
      "status: completed\n",
      "started: 2019-05-15 21:51:00\n",
      "stopped: 2019-05-15 21:51:00\n",
      "label: \n",
      "run_dir: ~/SCM/guild-examples/notebooks/guild-env/runs/6fcca5d6778511e9950fc85b764bbf34\n",
      "flags:\n",
      "  noise: 0.1\n",
      "  x: 0.1\n"
     ]
    }
   ],
   "source": [
    "runs.info()"
   ]
  },
  {
   "cell_type": "markdown",
   "metadata": {},
   "source": [
    "This information reflects the information you saw in the prior section."
   ]
  },
  {
   "cell_type": "markdown",
   "metadata": {},
   "source": [
    "## Run scalars\n",
    "\n",
    "Run results are recorded as *scalars*. You can list scalars in two ways.\n",
    "\n",
    "Specify the `scalars` flag to `info()`:"
   ]
  },
  {
   "cell_type": "code",
   "execution_count": 187,
   "metadata": {},
   "outputs": [
    {
     "name": "stdout",
     "output_type": "stream",
     "text": [
      "id: 6fcca5d6778511e9950fc85b764bbf34\n",
      "operation: train()\n",
      "status: completed\n",
      "started: 2019-05-15 21:51:00\n",
      "stopped: 2019-05-15 21:51:00\n",
      "label: \n",
      "run_dir: ~/SCM/guild-examples/notebooks/guild-env/runs/6fcca5d6778511e9950fc85b764bbf34\n",
      "flags:\n",
      "  noise: 0.1\n",
      "  x: 0.1\n",
      "scalars:\n",
      "  loss: 0.654873 (step 0)\n"
     ]
    }
   ],
   "source": [
    "runs.info(scalars=True)"
   ]
  },
  {
   "cell_type": "markdown",
   "metadata": {},
   "source": [
    "The other way returns a data frame for the scalars:"
   ]
  },
  {
   "cell_type": "code",
   "execution_count": 169,
   "metadata": {},
   "outputs": [
    {
     "data": {
      "text/html": [
       "<div>\n",
       "<style scoped>\n",
       "    .dataframe tbody tr th:only-of-type {\n",
       "        vertical-align: middle;\n",
       "    }\n",
       "\n",
       "    .dataframe tbody tr th {\n",
       "        vertical-align: top;\n",
       "    }\n",
       "\n",
       "    .dataframe thead th {\n",
       "        text-align: right;\n",
       "    }\n",
       "</style>\n",
       "<table border=\"1\" class=\"dataframe\">\n",
       "  <thead>\n",
       "    <tr style=\"text-align: right;\">\n",
       "      <th></th>\n",
       "      <th>avg_val</th>\n",
       "      <th>count</th>\n",
       "      <th>first_step</th>\n",
       "      <th>first_val</th>\n",
       "      <th>last_step</th>\n",
       "      <th>last_val</th>\n",
       "      <th>max_step</th>\n",
       "      <th>max_val</th>\n",
       "      <th>min_step</th>\n",
       "      <th>min_val</th>\n",
       "      <th>prefix</th>\n",
       "      <th>run</th>\n",
       "      <th>tag</th>\n",
       "      <th>total</th>\n",
       "    </tr>\n",
       "  </thead>\n",
       "  <tbody>\n",
       "    <tr>\n",
       "      <th>0</th>\n",
       "      <td>0.274548</td>\n",
       "      <td>1</td>\n",
       "      <td>0</td>\n",
       "      <td>0.274548</td>\n",
       "      <td>0</td>\n",
       "      <td>0.274548</td>\n",
       "      <td>0</td>\n",
       "      <td>0.274548</td>\n",
       "      <td>0</td>\n",
       "      <td>0.274548</td>\n",
       "      <td></td>\n",
       "      <td>f836e0cc778411e9950fc85b764bbf34</td>\n",
       "      <td>loss</td>\n",
       "      <td>0.274548</td>\n",
       "    </tr>\n",
       "    <tr>\n",
       "      <th>1</th>\n",
       "      <td>0.100000</td>\n",
       "      <td>1</td>\n",
       "      <td>0</td>\n",
       "      <td>0.100000</td>\n",
       "      <td>0</td>\n",
       "      <td>0.100000</td>\n",
       "      <td>0</td>\n",
       "      <td>0.100000</td>\n",
       "      <td>0</td>\n",
       "      <td>0.100000</td>\n",
       "      <td></td>\n",
       "      <td>f836e0cc778411e9950fc85b764bbf34</td>\n",
       "      <td>noise</td>\n",
       "      <td>0.100000</td>\n",
       "    </tr>\n",
       "    <tr>\n",
       "      <th>2</th>\n",
       "      <td>0.100000</td>\n",
       "      <td>1</td>\n",
       "      <td>0</td>\n",
       "      <td>0.100000</td>\n",
       "      <td>0</td>\n",
       "      <td>0.100000</td>\n",
       "      <td>0</td>\n",
       "      <td>0.100000</td>\n",
       "      <td>0</td>\n",
       "      <td>0.100000</td>\n",
       "      <td></td>\n",
       "      <td>f836e0cc778411e9950fc85b764bbf34</td>\n",
       "      <td>x</td>\n",
       "      <td>0.100000</td>\n",
       "    </tr>\n",
       "  </tbody>\n",
       "</table>\n",
       "</div>"
      ],
      "text/plain": [
       "    avg_val  count  first_step  first_val  last_step  last_val  max_step  \\\n",
       "0  0.274548      1           0   0.274548          0  0.274548         0   \n",
       "1  0.100000      1           0   0.100000          0  0.100000         0   \n",
       "2  0.100000      1           0   0.100000          0  0.100000         0   \n",
       "\n",
       "    max_val  min_step   min_val prefix                               run  \\\n",
       "0  0.274548         0  0.274548         f836e0cc778411e9950fc85b764bbf34   \n",
       "1  0.100000         0  0.100000         f836e0cc778411e9950fc85b764bbf34   \n",
       "2  0.100000         0  0.100000         f836e0cc778411e9950fc85b764bbf34   \n",
       "\n",
       "     tag     total  \n",
       "0   loss  0.274548  \n",
       "1  noise  0.100000  \n",
       "2      x  0.100000  "
      ]
     },
     "execution_count": 169,
     "metadata": {},
     "output_type": "execute_result"
    }
   ],
   "source": [
    "scalars = runs.scalars()\n",
    "scalars"
   ]
  },
  {
   "cell_type": "markdown",
   "metadata": {},
   "source": [
    "Guild stores aggregates of each tag, including first, last, max, min, and average."
   ]
  },
  {
   "cell_type": "markdown",
   "metadata": {},
   "source": [
    "Here's the last recorded `loss` for the last run."
   ]
  },
  {
   "cell_type": "code",
   "execution_count": 126,
   "metadata": {},
   "outputs": [
    {
     "data": {
      "text/plain": [
       "0    0.4652\n",
       "Name: last_val, dtype: float64"
      ]
     },
     "execution_count": 126,
     "metadata": {},
     "output_type": "execute_result"
    }
   ],
   "source": [
    "scalars.query(\"(run == '%s') and (tag == 'loss')\" % run.id)[\"last_val\"]"
   ]
  },
  {
   "cell_type": "markdown",
   "metadata": {},
   "source": [
    "## Generate a second run"
   ]
  },
  {
   "cell_type": "markdown",
   "metadata": {},
   "source": [
    "Run train again with different flags."
   ]
  },
  {
   "cell_type": "code",
   "execution_count": 147,
   "metadata": {},
   "outputs": [
    {
     "name": "stdout",
     "output_type": "stream",
     "text": [
      "x: 0.200000\n",
      "noise: 0.100000\n",
      "loss: 0.922072\n"
     ]
    }
   ],
   "source": [
    "run, _ = guild.run(train, x=0.2, _label=\"whoop\")"
   ]
  },
  {
   "cell_type": "markdown",
   "metadata": {},
   "source": [
    "List runs:"
   ]
  },
  {
   "cell_type": "code",
   "execution_count": 148,
   "metadata": {},
   "outputs": [
    {
     "data": {
      "text/html": [
       "<div>\n",
       "<style scoped>\n",
       "    .dataframe tbody tr th:only-of-type {\n",
       "        vertical-align: middle;\n",
       "    }\n",
       "\n",
       "    .dataframe tbody tr th {\n",
       "        vertical-align: top;\n",
       "    }\n",
       "\n",
       "    .dataframe thead th {\n",
       "        text-align: right;\n",
       "    }\n",
       "</style>\n",
       "<table border=\"1\" class=\"dataframe\">\n",
       "  <thead>\n",
       "    <tr style=\"text-align: right;\">\n",
       "      <th></th>\n",
       "      <th>run</th>\n",
       "      <th>operation</th>\n",
       "      <th>started</th>\n",
       "      <th>status</th>\n",
       "      <th>label</th>\n",
       "    </tr>\n",
       "  </thead>\n",
       "  <tbody>\n",
       "    <tr>\n",
       "      <th>0</th>\n",
       "      <td>7f68fe1a</td>\n",
       "      <td>train()</td>\n",
       "      <td>2019-05-15 21:37:07</td>\n",
       "      <td>completed</td>\n",
       "      <td>whoop</td>\n",
       "    </tr>\n",
       "    <tr>\n",
       "      <th>1</th>\n",
       "      <td>7d129810</td>\n",
       "      <td>train()</td>\n",
       "      <td>2019-05-15 21:01:15</td>\n",
       "      <td>completed</td>\n",
       "      <td>hello</td>\n",
       "    </tr>\n",
       "    <tr>\n",
       "      <th>2</th>\n",
       "      <td>c4768ee2</td>\n",
       "      <td>train()</td>\n",
       "      <td>2019-05-15 20:56:06</td>\n",
       "      <td>completed</td>\n",
       "      <td></td>\n",
       "    </tr>\n",
       "  </tbody>\n",
       "</table>\n",
       "</div>"
      ],
      "text/plain": [
       "        run operation             started     status  label\n",
       "0  7f68fe1a   train() 2019-05-15 21:37:07  completed  whoop\n",
       "1  7d129810   train() 2019-05-15 21:01:15  completed  hello\n",
       "2  c4768ee2   train() 2019-05-15 20:56:06  completed       "
      ]
     },
     "execution_count": 148,
     "metadata": {},
     "output_type": "execute_result"
    }
   ],
   "source": [
    "guild.runs()"
   ]
  },
  {
   "cell_type": "markdown",
   "metadata": {},
   "source": [
    "## Compare runs"
   ]
  },
  {
   "cell_type": "code",
   "execution_count": 149,
   "metadata": {},
   "outputs": [
    {
     "data": {
      "text/html": [
       "<div>\n",
       "<style scoped>\n",
       "    .dataframe tbody tr th:only-of-type {\n",
       "        vertical-align: middle;\n",
       "    }\n",
       "\n",
       "    .dataframe tbody tr th {\n",
       "        vertical-align: top;\n",
       "    }\n",
       "\n",
       "    .dataframe thead th {\n",
       "        text-align: right;\n",
       "    }\n",
       "</style>\n",
       "<table border=\"1\" class=\"dataframe\">\n",
       "  <thead>\n",
       "    <tr style=\"text-align: right;\">\n",
       "      <th></th>\n",
       "      <th>run</th>\n",
       "      <th>operation</th>\n",
       "      <th>time</th>\n",
       "      <th>status</th>\n",
       "      <th>label</th>\n",
       "      <th>noise</th>\n",
       "      <th>x</th>\n",
       "      <th>step</th>\n",
       "      <th>loss</th>\n",
       "    </tr>\n",
       "  </thead>\n",
       "  <tbody>\n",
       "    <tr>\n",
       "      <th>0</th>\n",
       "      <td>7f68fe1a</td>\n",
       "      <td>train()</td>\n",
       "      <td>0:00:00</td>\n",
       "      <td>completed</td>\n",
       "      <td>whoop</td>\n",
       "      <td>0.1</td>\n",
       "      <td>0.2</td>\n",
       "      <td>0</td>\n",
       "      <td>0.922072</td>\n",
       "    </tr>\n",
       "    <tr>\n",
       "      <th>1</th>\n",
       "      <td>7d129810</td>\n",
       "      <td>train()</td>\n",
       "      <td>0:00:00</td>\n",
       "      <td>completed</td>\n",
       "      <td>hello</td>\n",
       "      <td>0.1</td>\n",
       "      <td>0.2</td>\n",
       "      <td>0</td>\n",
       "      <td>1.017215</td>\n",
       "    </tr>\n",
       "    <tr>\n",
       "      <th>2</th>\n",
       "      <td>c4768ee2</td>\n",
       "      <td>train()</td>\n",
       "      <td>0:00:00</td>\n",
       "      <td>completed</td>\n",
       "      <td></td>\n",
       "      <td>0.1</td>\n",
       "      <td>0.1</td>\n",
       "      <td>0</td>\n",
       "      <td>0.465200</td>\n",
       "    </tr>\n",
       "  </tbody>\n",
       "</table>\n",
       "</div>"
      ],
      "text/plain": [
       "        run operation     time     status  label  noise    x  step      loss\n",
       "0  7f68fe1a   train()  0:00:00  completed  whoop    0.1  0.2     0  0.922072\n",
       "1  7d129810   train()  0:00:00  completed  hello    0.1  0.2     0  1.017215\n",
       "2  c4768ee2   train()  0:00:00  completed           0.1  0.1     0  0.465200"
      ]
     },
     "execution_count": 149,
     "metadata": {},
     "output_type": "execute_result"
    }
   ],
   "source": [
    "guild.runs().compare()"
   ]
  },
  {
   "cell_type": "code",
   "execution_count": null,
   "metadata": {},
   "outputs": [],
   "source": []
  }
 ],
 "metadata": {
  "kernelspec": {
   "display_name": "Python 2",
   "language": "python",
   "name": "python2"
  },
  "language_info": {
   "codemirror_mode": {
    "name": "ipython",
    "version": 2
   },
   "file_extension": ".py",
   "mimetype": "text/x-python",
   "name": "python",
   "nbconvert_exporter": "python",
   "pygments_lexer": "ipython2",
   "version": "2.7.12"
  }
 },
 "nbformat": 4,
 "nbformat_minor": 2
}
