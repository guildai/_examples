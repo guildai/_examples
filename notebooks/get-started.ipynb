{
 "cells": [
  {
   "cell_type": "markdown",
   "metadata": {},
   "source": [
    "# Guild AI Interactive Python Quick Start\n",
    "\n",
    "This Notebook mirrors the steps in [Guild AI Quick Start](https://guild.ai/docs/start/).\n",
    "\n",
    "Guild AI is a tool for running, tracking, and comparing machine learning experiments. For more on Guild AI, visit https://guild.ai.\n",
    "\n",
    "In this example, we show how Guild is used to run an unmodified Python function as a training operation. It uses a Pythonic interface defined in the module `guild.ipy`.\n",
    "\n",
    "This notebook covers the following topics:\n",
    "\n",
    "- Installation\n",
    "- Experiment basics\n",
    "    - Create a mock training function\n",
    "    - Generate a run with Guild\n",
    "    - Examine the run\n",
    "    - Generate a second run\n",
    "    - Compare runs\n",
    "- Hyperparameter search and optimization\n",
    "    - Grid search\n",
    "    - Random search\n",
    "    - Bayesian optimization\n",
    "\n",
    "## Installation\n",
    "\n",
    "Before continuing, install Guild AI:\n",
    "\n",
    "    $ pip install guildai\n",
    "    \n",
    "Install either `tensorflow` or `tensorflow-gpu` depending on your system capability:\n",
    "\n",
    "    $ pip install tensorflow # (or tensorflow-gpu if your system has a GPU)\n",
    "    \n",
    "TensorFlow is required for TensorBoard support. Your training code does not need to use TensorFlow. This requirement will be removed in versions of Guild starting with `0.7`.\n",
    "    \n",
    "**<span style=\"color:#600\">IMPORTANT</span>** If you are installing Guild AI 0.6.3, you must manually install a missing requirement (this bug is fixed in 0.6.4, which will be released in late May):\n",
    "\n",
    "    $ pip install click\n",
    "    \n",
    "## Contents\n",
    "    \n",
    "This Notebook has two parts.\n",
    "\n",
    "It features the module `guild.ipy`, which is a Python interface that can be used interactively in Notebooks or by your own Python code. "
   ]
  },
  {
   "cell_type": "markdown",
   "metadata": {},
   "source": [
    "## Notebooks config\n",
    "\n",
    "Modify the variables below to change Notebook configuration.\n",
    "\n",
    "`GULID_HOME` is the location of generated runs. By default it is the location subdirectory \"guild-env\". Note that we initialize this directory below by permanently deleting any runs it contains before proceeding. If you don't want to delete runs in `GUILD_HOME`, set `DELETE_RUNS_ON_INIT` to `False` below."
   ]
  },
  {
   "cell_type": "code",
   "execution_count": 35,
   "metadata": {},
   "outputs": [],
   "source": [
    "GUILD_HOME = \"guild-env\""
   ]
  },
  {
   "cell_type": "markdown",
   "metadata": {},
   "source": [
    "`DELETE_RUNS_ON_INIT` determines whether or not runs are initially deleted from `GUILD_HOME` below. As this Notebook is for demonstration purposes, it's usually a good idea to delete any existing runs before proceeding. To prevent any runs from being deleted, set `DELETE_RUNS_ON_INIT` to `False`."
   ]
  },
  {
   "cell_type": "code",
   "execution_count": 36,
   "metadata": {},
   "outputs": [],
   "source": [
    "DELETE_RUNS_ON_INIT = True"
   ]
  },
  {
   "cell_type": "markdown",
   "metadata": {},
   "source": [
    "## Guild interactive Python API\n",
    "\n",
    "Guild AI functionality is available through a Notebook compatible interface defined in `guild.ipy`.\n",
    "\n",
    "Import this module as `guild`:"
   ]
  },
  {
   "cell_type": "code",
   "execution_count": 37,
   "metadata": {},
   "outputs": [],
   "source": [
    "import guild.ipy as guild"
   ]
  },
  {
   "cell_type": "markdown",
   "metadata": {},
   "source": [
    "**<span style=\"color:#600\">IMPORTANT</span>** If you get an error **No module named 'click'** install `click` manually by running `pip install click` in your Notebook environment."
   ]
  },
  {
   "cell_type": "markdown",
   "metadata": {},
   "source": [
    "## Initialize Guild Home\n",
    "\n",
    "Guild home is a directory containing the runs that Guild generates. This Notebook uses the directory defined by `GUILD_HOME`. Ensure that the directory exists and use `set_guild_home()` to set the value. "
   ]
  },
  {
   "cell_type": "code",
   "execution_count": 38,
   "metadata": {},
   "outputs": [],
   "source": [
    "import os\n",
    "\n",
    "if not os.path.exists(GUILD_HOME):\n",
    "    os.mkdir(\"guild-env\")\n",
    "    \n",
    "guild.set_guild_home(\"guild-env\")"
   ]
  },
  {
   "cell_type": "markdown",
   "metadata": {},
   "source": [
    "Clear the director of any runs."
   ]
  },
  {
   "cell_type": "code",
   "execution_count": 39,
   "metadata": {},
   "outputs": [
    {
     "name": "stdout",
     "output_type": "stream",
     "text": [
      "Deleted 22 run(s)\n"
     ]
    }
   ],
   "source": [
    "if DELETE_RUNS_ON_INIT:\n",
    "    deleted = guild.runs().delete(permanent=True)\n",
    "    print(\"Deleted %i run(s)\" % len(deleted))"
   ]
  },
  {
   "cell_type": "markdown",
   "metadata": {},
   "source": [
    "## Mock training function\n",
    "\n",
    "Create a mock training script. This function doesn’t actually train anything, but simulates the training process of accepting hyperparameters as inputs and generating a loss."
   ]
  },
  {
   "cell_type": "code",
   "execution_count": 40,
   "metadata": {},
   "outputs": [],
   "source": [
    "import numpy as np\n",
    "\n",
    "def train(x=0.1, noise=0.1):\n",
    "    loss = (np.sin(5 * x) * (1 - np.tanh(x ** 2)) + np.random.randn() * noise)\n",
    "    print(\"loss: %f\" % loss)"
   ]
  },
  {
   "cell_type": "markdown",
   "metadata": {},
   "source": [
    "[Function credit: *skopt API documentation*](https://scikit-optimize.github.io/)\n",
    "\n",
    "Run the mock training function a couple times to see how it works.\n",
    "\n",
    "**NOTE** The function uses a random component to simulate training \"noise\". This causes the results to differ across runs."
   ]
  },
  {
   "cell_type": "code",
   "execution_count": 41,
   "metadata": {},
   "outputs": [
    {
     "name": "stdout",
     "output_type": "stream",
     "text": [
      "Trial 1:\n",
      "loss: -0.068346\n"
     ]
    }
   ],
   "source": [
    "print(\"Trial 1:\")\n",
    "train(x=-2.0)"
   ]
  },
  {
   "cell_type": "code",
   "execution_count": 42,
   "metadata": {},
   "outputs": [
    {
     "name": "stdout",
     "output_type": "stream",
     "text": [
      "Trial 2:\n",
      "loss: 0.049435\n"
     ]
    }
   ],
   "source": [
    "print(\"Trial 2:\")\n",
    "train(x=0.0)"
   ]
  },
  {
   "cell_type": "code",
   "execution_count": 43,
   "metadata": {},
   "outputs": [
    {
     "name": "stdout",
     "output_type": "stream",
     "text": [
      "Trial 3:\n",
      "loss: 0.059729\n"
     ]
    }
   ],
   "source": [
    "print(\"Trial 3:\")\n",
    "train(x=2.0)"
   ]
  },
  {
   "cell_type": "markdown",
   "metadata": {},
   "source": [
    "## Generate a run"
   ]
  },
  {
   "cell_type": "markdown",
   "metadata": {},
   "source": [
    "Run the mock train function using Guild:"
   ]
  },
  {
   "cell_type": "code",
   "execution_count": 44,
   "metadata": {},
   "outputs": [
    {
     "name": "stdout",
     "output_type": "stream",
     "text": [
      "loss: 0.332362\n"
     ]
    }
   ],
   "source": [
    "run, return_val = guild.run(train)"
   ]
  },
  {
   "cell_type": "markdown",
   "metadata": {},
   "source": [
    "The `run()` function returns a tuple of the Guild run and the return value of the function.\n",
    "\n",
    "In this case, our mock training function doesn't return a value."
   ]
  },
  {
   "cell_type": "code",
   "execution_count": 45,
   "metadata": {},
   "outputs": [
    {
     "name": "stdout",
     "output_type": "stream",
     "text": [
      "None\n"
     ]
    }
   ],
   "source": [
    "print(return_val)"
   ]
  },
  {
   "cell_type": "markdown",
   "metadata": {},
   "source": [
    "The `run` variable is a Python object that represents the run."
   ]
  },
  {
   "cell_type": "markdown",
   "metadata": {},
   "source": [
    "## Examine the run\n",
    "\n",
    "We can work with the run object directly to get information about it."
   ]
  },
  {
   "cell_type": "markdown",
   "metadata": {},
   "source": [
    "Each run has a uniqiue ID:"
   ]
  },
  {
   "cell_type": "code",
   "execution_count": 46,
   "metadata": {},
   "outputs": [
    {
     "data": {
      "text/plain": [
       "'d10558a07d9f11e9b16de4a471939b0d'"
      ]
     },
     "execution_count": 46,
     "metadata": {},
     "output_type": "execute_result"
    }
   ],
   "source": [
    "run.id"
   ]
  },
  {
   "cell_type": "markdown",
   "metadata": {},
   "source": [
    "Each run is associated with a unique directory, which includes the ID. The run directory contains metadata and output associated with the run."
   ]
  },
  {
   "cell_type": "code",
   "execution_count": 47,
   "metadata": {},
   "outputs": [
    {
     "data": {
      "text/plain": [
       "'guild-env/runs/d10558a07d9f11e9b16de4a471939b0d'"
      ]
     },
     "execution_count": 47,
     "metadata": {},
     "output_type": "execute_result"
    }
   ],
   "source": [
    "run.dir"
   ]
  },
  {
   "cell_type": "markdown",
   "metadata": {},
   "source": [
    "Our mock training script doesn't generate any files, so the run directory is empty, with the exception of a `.guild` subdirectory."
   ]
  },
  {
   "cell_type": "code",
   "execution_count": 48,
   "metadata": {},
   "outputs": [
    {
     "data": {
      "text/plain": [
       "['.guild']"
      ]
     },
     "execution_count": 48,
     "metadata": {},
     "output_type": "execute_result"
    }
   ],
   "source": [
    "os.listdir(run.dir)"
   ]
  },
  {
   "cell_type": "markdown",
   "metadata": {},
   "source": [
    "The `.guild` subdirectory contains run output and metadata. Outputs include the output printed to the script during the operation (`output`) and any scalars logged (`events.*`). Guild logs scalar output using TensorFlow event files, which can be read using TensorBoard."
   ]
  },
  {
   "cell_type": "code",
   "execution_count": 49,
   "metadata": {},
   "outputs": [
    {
     "data": {
      "text/plain": [
       "['output', 'opref', 'events.out.tfevents.1558646097.omaha', 'attrs']"
      ]
     },
     "execution_count": 49,
     "metadata": {},
     "output_type": "execute_result"
    }
   ],
   "source": [
    "os.listdir(os.path.join(run.dir, \".guild\"))"
   ]
  },
  {
   "cell_type": "markdown",
   "metadata": {},
   "source": [
    "Run metadata includes *attributes*. You can list the attribute names using `attr_names()`:"
   ]
  },
  {
   "cell_type": "code",
   "execution_count": 50,
   "metadata": {},
   "outputs": [
    {
     "data": {
      "text/plain": [
       "['exit_status', 'flags', 'id', 'initialized', 'started', 'stopped']"
      ]
     },
     "execution_count": 50,
     "metadata": {},
     "output_type": "execute_result"
    }
   ],
   "source": [
    "run.attr_names()"
   ]
  },
  {
   "cell_type": "markdown",
   "metadata": {},
   "source": [
    "Read an attribute value using `get()`. For example, to read the *flags* attribute, use:"
   ]
  },
  {
   "cell_type": "code",
   "execution_count": 51,
   "metadata": {},
   "outputs": [
    {
     "data": {
      "text/plain": [
       "{'noise': 0.1, 'x': 0.1}"
      ]
     },
     "execution_count": 51,
     "metadata": {},
     "output_type": "execute_result"
    }
   ],
   "source": [
    "run.get(\"flags\")"
   ]
  },
  {
   "cell_type": "markdown",
   "metadata": {},
   "source": [
    "Flags are values provided to the function. In this case, both values are defined as function keyword default values. Later you run `train` using explicit flag values."
   ]
  },
  {
   "cell_type": "markdown",
   "metadata": {},
   "source": [
    "Each run has a *status*, which indicates if the run is still running and whether or not it completed successfully or terminated with an error."
   ]
  },
  {
   "cell_type": "code",
   "execution_count": 52,
   "metadata": {},
   "outputs": [
    {
     "data": {
      "text/plain": [
       "'completed'"
      ]
     },
     "execution_count": 52,
     "metadata": {},
     "output_type": "execute_result"
    }
   ],
   "source": [
    "run.status"
   ]
  },
  {
   "cell_type": "markdown",
   "metadata": {},
   "source": [
    "## List runs"
   ]
  },
  {
   "cell_type": "markdown",
   "metadata": {},
   "source": [
    "List runs using `guild.runs()`:"
   ]
  },
  {
   "cell_type": "code",
   "execution_count": 53,
   "metadata": {},
   "outputs": [
    {
     "data": {
      "text/html": [
       "<div>\n",
       "<style scoped>\n",
       "    .dataframe tbody tr th:only-of-type {\n",
       "        vertical-align: middle;\n",
       "    }\n",
       "\n",
       "    .dataframe tbody tr th {\n",
       "        vertical-align: top;\n",
       "    }\n",
       "\n",
       "    .dataframe thead th {\n",
       "        text-align: right;\n",
       "    }\n",
       "</style>\n",
       "<table border=\"1\" class=\"dataframe\">\n",
       "  <thead>\n",
       "    <tr style=\"text-align: right;\">\n",
       "      <th></th>\n",
       "      <th>run</th>\n",
       "      <th>operation</th>\n",
       "      <th>started</th>\n",
       "      <th>status</th>\n",
       "      <th>label</th>\n",
       "    </tr>\n",
       "  </thead>\n",
       "  <tbody>\n",
       "    <tr>\n",
       "      <th>0</th>\n",
       "      <td>d10558a0</td>\n",
       "      <td>train()</td>\n",
       "      <td>2019-05-23 16:14:57</td>\n",
       "      <td>completed</td>\n",
       "      <td></td>\n",
       "    </tr>\n",
       "  </tbody>\n",
       "</table>\n",
       "</div>"
      ],
      "text/plain": [
       "        run operation             started     status label\n",
       "0  d10558a0   train() 2019-05-23 16:14:57  completed      "
      ]
     },
     "execution_count": 53,
     "metadata": {},
     "output_type": "execute_result"
    }
   ],
   "source": [
    "runs = guild.runs()\n",
    "runs"
   ]
  },
  {
   "cell_type": "markdown",
   "metadata": {},
   "source": [
    "Each time you run an operation, the run appears in the data frame generated by `runs()`."
   ]
  },
  {
   "cell_type": "markdown",
   "metadata": {},
   "source": [
    "## Print run info"
   ]
  },
  {
   "cell_type": "markdown",
   "metadata": {},
   "source": [
    "From `runs`, we can print information for the latest run using `runs.info()`."
   ]
  },
  {
   "cell_type": "code",
   "execution_count": 54,
   "metadata": {},
   "outputs": [
    {
     "name": "stdout",
     "output_type": "stream",
     "text": [
      "id: d10558a07d9f11e9b16de4a471939b0d\n",
      "operation: train()\n",
      "status: completed\n",
      "started: 2019-05-23 16:14:57\n",
      "stopped: 2019-05-23 16:14:57\n",
      "label: \n",
      "run_dir: ~/SCM/guild-examples/notebooks/guild-env/runs/d10558a07d9f11e9b16de4a471939b0d\n",
      "flags:\n",
      "  noise: 0.1\n",
      "  x: 0.1\n"
     ]
    }
   ],
   "source": [
    "runs.info()"
   ]
  },
  {
   "cell_type": "markdown",
   "metadata": {},
   "source": [
    "This information reflects the information you saw in the prior section."
   ]
  },
  {
   "cell_type": "markdown",
   "metadata": {},
   "source": [
    "## Run scalars\n",
    "\n",
    "Run results are recorded as *scalars*. You can list scalars in two ways.\n",
    "\n",
    "First, you can specify the `scalars` flag to `info()`:"
   ]
  },
  {
   "cell_type": "code",
   "execution_count": 55,
   "metadata": {},
   "outputs": [
    {
     "name": "stdout",
     "output_type": "stream",
     "text": [
      "id: d10558a07d9f11e9b16de4a471939b0d\n",
      "operation: train()\n",
      "status: completed\n",
      "started: 2019-05-23 16:14:57\n",
      "stopped: 2019-05-23 16:14:57\n",
      "label: \n",
      "run_dir: ~/SCM/guild-examples/notebooks/guild-env/runs/d10558a07d9f11e9b16de4a471939b0d\n",
      "flags:\n",
      "  noise: 0.1\n",
      "  x: 0.1\n",
      "scalars:\n",
      "  loss: 0.332362 (step 0)\n"
     ]
    }
   ],
   "source": [
    "runs.info(scalars=True)"
   ]
  },
  {
   "cell_type": "markdown",
   "metadata": {},
   "source": [
    "Second, you can get a data frame containing scalars using the `scalars()` method."
   ]
  },
  {
   "cell_type": "code",
   "execution_count": 56,
   "metadata": {},
   "outputs": [
    {
     "data": {
      "text/html": [
       "<div>\n",
       "<style scoped>\n",
       "    .dataframe tbody tr th:only-of-type {\n",
       "        vertical-align: middle;\n",
       "    }\n",
       "\n",
       "    .dataframe tbody tr th {\n",
       "        vertical-align: top;\n",
       "    }\n",
       "\n",
       "    .dataframe thead th {\n",
       "        text-align: right;\n",
       "    }\n",
       "</style>\n",
       "<table border=\"1\" class=\"dataframe\">\n",
       "  <thead>\n",
       "    <tr style=\"text-align: right;\">\n",
       "      <th></th>\n",
       "      <th>avg_val</th>\n",
       "      <th>count</th>\n",
       "      <th>first_step</th>\n",
       "      <th>first_val</th>\n",
       "      <th>last_step</th>\n",
       "      <th>last_val</th>\n",
       "      <th>max_step</th>\n",
       "      <th>max_val</th>\n",
       "      <th>min_step</th>\n",
       "      <th>min_val</th>\n",
       "      <th>prefix</th>\n",
       "      <th>run</th>\n",
       "      <th>tag</th>\n",
       "      <th>total</th>\n",
       "    </tr>\n",
       "  </thead>\n",
       "  <tbody>\n",
       "    <tr>\n",
       "      <th>0</th>\n",
       "      <td>0.332362</td>\n",
       "      <td>1</td>\n",
       "      <td>0</td>\n",
       "      <td>0.332362</td>\n",
       "      <td>0</td>\n",
       "      <td>0.332362</td>\n",
       "      <td>0</td>\n",
       "      <td>0.332362</td>\n",
       "      <td>0</td>\n",
       "      <td>0.332362</td>\n",
       "      <td></td>\n",
       "      <td>d10558a07d9f11e9b16de4a471939b0d</td>\n",
       "      <td>loss</td>\n",
       "      <td>0.332362</td>\n",
       "    </tr>\n",
       "  </tbody>\n",
       "</table>\n",
       "</div>"
      ],
      "text/plain": [
       "    avg_val  count  first_step  first_val  last_step  last_val  max_step  \\\n",
       "0  0.332362      1           0   0.332362          0  0.332362         0   \n",
       "\n",
       "    max_val  min_step   min_val prefix                               run  \\\n",
       "0  0.332362         0  0.332362         d10558a07d9f11e9b16de4a471939b0d   \n",
       "\n",
       "    tag     total  \n",
       "0  loss  0.332362  "
      ]
     },
     "execution_count": 56,
     "metadata": {},
     "output_type": "execute_result"
    }
   ],
   "source": [
    "scalars = runs.scalars()\n",
    "scalars"
   ]
  },
  {
   "cell_type": "markdown",
   "metadata": {},
   "source": [
    "**<span style=\"color:#600\">IMPORTANT</span>** If this listing is empty, ensure that you have TensorFlow installed (see above for instructions).\n",
    "\n",
    "Guild stores aggregates of each tag, including *first*, *last*, *max*, *min*, and *average*."
   ]
  },
  {
   "cell_type": "markdown",
   "metadata": {},
   "source": [
    "You can use the various facilities in data frame to get scalar values."
   ]
  },
  {
   "cell_type": "code",
   "execution_count": 57,
   "metadata": {},
   "outputs": [
    {
     "data": {
      "text/plain": [
       "0    0.332362\n",
       "Name: last_val, dtype: float64"
      ]
     },
     "execution_count": 57,
     "metadata": {},
     "output_type": "execute_result"
    }
   ],
   "source": [
    "scalars.query(\"(run == '%s') and (tag == 'loss')\" % run.id)[\"last_val\"]"
   ]
  },
  {
   "cell_type": "markdown",
   "metadata": {},
   "source": [
    "## Generate a second run"
   ]
  },
  {
   "cell_type": "markdown",
   "metadata": {},
   "source": [
    "Run train again with different flags along with a run *label*:"
   ]
  },
  {
   "cell_type": "code",
   "execution_count": 58,
   "metadata": {},
   "outputs": [
    {
     "name": "stdout",
     "output_type": "stream",
     "text": [
      "loss: 0.908333\n"
     ]
    }
   ],
   "source": [
    "_ = guild.run(train, x=0.2, _label=\"run 2\")"
   ]
  },
  {
   "cell_type": "markdown",
   "metadata": {},
   "source": [
    "List runs:"
   ]
  },
  {
   "cell_type": "code",
   "execution_count": 59,
   "metadata": {},
   "outputs": [
    {
     "data": {
      "text/html": [
       "<div>\n",
       "<style scoped>\n",
       "    .dataframe tbody tr th:only-of-type {\n",
       "        vertical-align: middle;\n",
       "    }\n",
       "\n",
       "    .dataframe tbody tr th {\n",
       "        vertical-align: top;\n",
       "    }\n",
       "\n",
       "    .dataframe thead th {\n",
       "        text-align: right;\n",
       "    }\n",
       "</style>\n",
       "<table border=\"1\" class=\"dataframe\">\n",
       "  <thead>\n",
       "    <tr style=\"text-align: right;\">\n",
       "      <th></th>\n",
       "      <th>run</th>\n",
       "      <th>operation</th>\n",
       "      <th>started</th>\n",
       "      <th>status</th>\n",
       "      <th>label</th>\n",
       "    </tr>\n",
       "  </thead>\n",
       "  <tbody>\n",
       "    <tr>\n",
       "      <th>0</th>\n",
       "      <td>d93d37e0</td>\n",
       "      <td>train()</td>\n",
       "      <td>2019-05-23 16:15:10</td>\n",
       "      <td>completed</td>\n",
       "      <td>run 2</td>\n",
       "    </tr>\n",
       "    <tr>\n",
       "      <th>1</th>\n",
       "      <td>d10558a0</td>\n",
       "      <td>train()</td>\n",
       "      <td>2019-05-23 16:14:57</td>\n",
       "      <td>completed</td>\n",
       "      <td></td>\n",
       "    </tr>\n",
       "  </tbody>\n",
       "</table>\n",
       "</div>"
      ],
      "text/plain": [
       "        run operation             started     status  label\n",
       "0  d93d37e0   train() 2019-05-23 16:15:10  completed  run 2\n",
       "1  d10558a0   train() 2019-05-23 16:14:57  completed       "
      ]
     },
     "execution_count": 59,
     "metadata": {},
     "output_type": "execute_result"
    }
   ],
   "source": [
    "guild.runs()"
   ]
  },
  {
   "cell_type": "markdown",
   "metadata": {},
   "source": [
    "Note that the latest run contains the label \"run 2\" as specified in the `run()` call."
   ]
  },
  {
   "cell_type": "markdown",
   "metadata": {},
   "source": [
    "## Compare runs\n",
    "\n",
    "Use `compare()` to generate a data frame containing both flags and scalars."
   ]
  },
  {
   "cell_type": "code",
   "execution_count": 60,
   "metadata": {},
   "outputs": [
    {
     "data": {
      "text/html": [
       "<div>\n",
       "<style scoped>\n",
       "    .dataframe tbody tr th:only-of-type {\n",
       "        vertical-align: middle;\n",
       "    }\n",
       "\n",
       "    .dataframe tbody tr th {\n",
       "        vertical-align: top;\n",
       "    }\n",
       "\n",
       "    .dataframe thead th {\n",
       "        text-align: right;\n",
       "    }\n",
       "</style>\n",
       "<table border=\"1\" class=\"dataframe\">\n",
       "  <thead>\n",
       "    <tr style=\"text-align: right;\">\n",
       "      <th></th>\n",
       "      <th>run</th>\n",
       "      <th>operation</th>\n",
       "      <th>started</th>\n",
       "      <th>time</th>\n",
       "      <th>status</th>\n",
       "      <th>label</th>\n",
       "      <th>noise</th>\n",
       "      <th>x</th>\n",
       "      <th>step</th>\n",
       "      <th>loss</th>\n",
       "    </tr>\n",
       "  </thead>\n",
       "  <tbody>\n",
       "    <tr>\n",
       "      <th>0</th>\n",
       "      <td>d93d37e0</td>\n",
       "      <td>train()</td>\n",
       "      <td>2019-05-23 16:15:10</td>\n",
       "      <td>0:00:00</td>\n",
       "      <td>completed</td>\n",
       "      <td>run 2</td>\n",
       "      <td>0.1</td>\n",
       "      <td>0.2</td>\n",
       "      <td>0</td>\n",
       "      <td>0.908333</td>\n",
       "    </tr>\n",
       "    <tr>\n",
       "      <th>1</th>\n",
       "      <td>d10558a0</td>\n",
       "      <td>train()</td>\n",
       "      <td>2019-05-23 16:14:57</td>\n",
       "      <td>0:00:00</td>\n",
       "      <td>completed</td>\n",
       "      <td></td>\n",
       "      <td>0.1</td>\n",
       "      <td>0.1</td>\n",
       "      <td>0</td>\n",
       "      <td>0.332362</td>\n",
       "    </tr>\n",
       "  </tbody>\n",
       "</table>\n",
       "</div>"
      ],
      "text/plain": [
       "        run operation             started     time     status  label  noise  \\\n",
       "0  d93d37e0   train() 2019-05-23 16:15:10  0:00:00  completed  run 2    0.1   \n",
       "1  d10558a0   train() 2019-05-23 16:14:57  0:00:00  completed           0.1   \n",
       "\n",
       "     x  step      loss  \n",
       "0  0.2     0  0.908333  \n",
       "1  0.1     0  0.332362  "
      ]
     },
     "execution_count": 60,
     "metadata": {},
     "output_type": "execute_result"
    }
   ],
   "source": [
    "guild.runs().compare()"
   ]
  },
  {
   "cell_type": "markdown",
   "metadata": {},
   "source": [
    "## Grid search\n",
    "\n",
    "Grid search &mdash; also referred to as a parameter sweep &mdash; is a form of hyperparameter tuning that uses exhaustive search over a manually defined set of hyperparameter values.\n",
    "\n",
    "To perform a grid search in Guild, provide a list of values to use for any given flag. If you specify lists for multiple flags, Guild runs trials for each possible flag value combination."
   ]
  },
  {
   "cell_type": "markdown",
   "metadata": {},
   "source": [
    "Run `train()` using a range of values:"
   ]
  },
  {
   "cell_type": "code",
   "execution_count": 61,
   "metadata": {},
   "outputs": [
    {
     "name": "stdout",
     "output_type": "stream",
     "text": [
      "Running train (noise=0.1, x=-0.5):\n",
      "loss: -0.620585\n",
      "Running train (noise=0.1, x=-0.4):\n",
      "loss: -0.840888\n",
      "Running train (noise=0.1, x=-0.3):\n",
      "loss: -1.015978\n",
      "Running train (noise=0.1, x=-0.2):\n",
      "loss: -0.773661\n",
      "Running train (noise=0.1, x=-0.1):\n",
      "loss: -0.526886\n"
     ]
    }
   ],
   "source": [
    "_ = guild.run(train, x=[-0.5,-0.4,-0.3,-0.2,-0.1])"
   ]
  },
  {
   "cell_type": "markdown",
   "metadata": {},
   "source": [
    "This command generates five trials, one for each specified value of `x`.\n",
    "\n",
    "Use `runs().compare()[:5]` to compare the last five results:"
   ]
  },
  {
   "cell_type": "code",
   "execution_count": 62,
   "metadata": {},
   "outputs": [
    {
     "data": {
      "text/html": [
       "<div>\n",
       "<style scoped>\n",
       "    .dataframe tbody tr th:only-of-type {\n",
       "        vertical-align: middle;\n",
       "    }\n",
       "\n",
       "    .dataframe tbody tr th {\n",
       "        vertical-align: top;\n",
       "    }\n",
       "\n",
       "    .dataframe thead th {\n",
       "        text-align: right;\n",
       "    }\n",
       "</style>\n",
       "<table border=\"1\" class=\"dataframe\">\n",
       "  <thead>\n",
       "    <tr style=\"text-align: right;\">\n",
       "      <th></th>\n",
       "      <th>run</th>\n",
       "      <th>operation</th>\n",
       "      <th>started</th>\n",
       "      <th>time</th>\n",
       "      <th>status</th>\n",
       "      <th>label</th>\n",
       "      <th>noise</th>\n",
       "      <th>x</th>\n",
       "      <th>step</th>\n",
       "      <th>loss</th>\n",
       "    </tr>\n",
       "  </thead>\n",
       "  <tbody>\n",
       "    <tr>\n",
       "      <th>0</th>\n",
       "      <td>da896d5c</td>\n",
       "      <td>train()</td>\n",
       "      <td>2019-05-23 16:15:13</td>\n",
       "      <td>0:00:00</td>\n",
       "      <td>completed</td>\n",
       "      <td></td>\n",
       "      <td>0.1</td>\n",
       "      <td>-0.1</td>\n",
       "      <td>0</td>\n",
       "      <td>-0.526886</td>\n",
       "    </tr>\n",
       "    <tr>\n",
       "      <th>1</th>\n",
       "      <td>da896d5b</td>\n",
       "      <td>train()</td>\n",
       "      <td>2019-05-23 16:15:13</td>\n",
       "      <td>0:00:00</td>\n",
       "      <td>completed</td>\n",
       "      <td></td>\n",
       "      <td>0.1</td>\n",
       "      <td>-0.2</td>\n",
       "      <td>0</td>\n",
       "      <td>-0.773661</td>\n",
       "    </tr>\n",
       "    <tr>\n",
       "      <th>2</th>\n",
       "      <td>da896d5a</td>\n",
       "      <td>train()</td>\n",
       "      <td>2019-05-23 16:15:13</td>\n",
       "      <td>0:00:00</td>\n",
       "      <td>completed</td>\n",
       "      <td></td>\n",
       "      <td>0.1</td>\n",
       "      <td>-0.3</td>\n",
       "      <td>0</td>\n",
       "      <td>-1.015978</td>\n",
       "    </tr>\n",
       "    <tr>\n",
       "      <th>3</th>\n",
       "      <td>da896d59</td>\n",
       "      <td>train()</td>\n",
       "      <td>2019-05-23 16:15:13</td>\n",
       "      <td>0:00:00</td>\n",
       "      <td>completed</td>\n",
       "      <td></td>\n",
       "      <td>0.1</td>\n",
       "      <td>-0.4</td>\n",
       "      <td>0</td>\n",
       "      <td>-0.840888</td>\n",
       "    </tr>\n",
       "    <tr>\n",
       "      <th>4</th>\n",
       "      <td>da896d58</td>\n",
       "      <td>train()</td>\n",
       "      <td>2019-05-23 16:15:13</td>\n",
       "      <td>0:00:00</td>\n",
       "      <td>completed</td>\n",
       "      <td></td>\n",
       "      <td>0.1</td>\n",
       "      <td>-0.5</td>\n",
       "      <td>0</td>\n",
       "      <td>-0.620585</td>\n",
       "    </tr>\n",
       "  </tbody>\n",
       "</table>\n",
       "</div>"
      ],
      "text/plain": [
       "        run operation             started     time     status label  noise  \\\n",
       "0  da896d5c   train() 2019-05-23 16:15:13  0:00:00  completed          0.1   \n",
       "1  da896d5b   train() 2019-05-23 16:15:13  0:00:00  completed          0.1   \n",
       "2  da896d5a   train() 2019-05-23 16:15:13  0:00:00  completed          0.1   \n",
       "3  da896d59   train() 2019-05-23 16:15:13  0:00:00  completed          0.1   \n",
       "4  da896d58   train() 2019-05-23 16:15:13  0:00:00  completed          0.1   \n",
       "\n",
       "     x  step      loss  \n",
       "0 -0.1     0 -0.526886  \n",
       "1 -0.2     0 -0.773661  \n",
       "2 -0.3     0 -1.015978  \n",
       "3 -0.4     0 -0.840888  \n",
       "4 -0.5     0 -0.620585  "
      ]
     },
     "execution_count": 62,
     "metadata": {},
     "output_type": "execute_result"
    }
   ],
   "source": [
    "guild.runs().compare()[:5]"
   ]
  },
  {
   "cell_type": "markdown",
   "metadata": {},
   "source": [
    "View the top-three results by loss:"
   ]
  },
  {
   "cell_type": "code",
   "execution_count": 63,
   "metadata": {},
   "outputs": [
    {
     "data": {
      "text/html": [
       "<div>\n",
       "<style scoped>\n",
       "    .dataframe tbody tr th:only-of-type {\n",
       "        vertical-align: middle;\n",
       "    }\n",
       "\n",
       "    .dataframe tbody tr th {\n",
       "        vertical-align: top;\n",
       "    }\n",
       "\n",
       "    .dataframe thead th {\n",
       "        text-align: right;\n",
       "    }\n",
       "</style>\n",
       "<table border=\"1\" class=\"dataframe\">\n",
       "  <thead>\n",
       "    <tr style=\"text-align: right;\">\n",
       "      <th></th>\n",
       "      <th>run</th>\n",
       "      <th>operation</th>\n",
       "      <th>started</th>\n",
       "      <th>time</th>\n",
       "      <th>status</th>\n",
       "      <th>label</th>\n",
       "      <th>noise</th>\n",
       "      <th>x</th>\n",
       "      <th>step</th>\n",
       "      <th>loss</th>\n",
       "    </tr>\n",
       "  </thead>\n",
       "  <tbody>\n",
       "    <tr>\n",
       "      <th>2</th>\n",
       "      <td>da896d5a</td>\n",
       "      <td>train()</td>\n",
       "      <td>2019-05-23 16:15:13</td>\n",
       "      <td>0:00:00</td>\n",
       "      <td>completed</td>\n",
       "      <td></td>\n",
       "      <td>0.1</td>\n",
       "      <td>-0.3</td>\n",
       "      <td>0</td>\n",
       "      <td>-1.015978</td>\n",
       "    </tr>\n",
       "    <tr>\n",
       "      <th>3</th>\n",
       "      <td>da896d59</td>\n",
       "      <td>train()</td>\n",
       "      <td>2019-05-23 16:15:13</td>\n",
       "      <td>0:00:00</td>\n",
       "      <td>completed</td>\n",
       "      <td></td>\n",
       "      <td>0.1</td>\n",
       "      <td>-0.4</td>\n",
       "      <td>0</td>\n",
       "      <td>-0.840888</td>\n",
       "    </tr>\n",
       "    <tr>\n",
       "      <th>1</th>\n",
       "      <td>da896d5b</td>\n",
       "      <td>train()</td>\n",
       "      <td>2019-05-23 16:15:13</td>\n",
       "      <td>0:00:00</td>\n",
       "      <td>completed</td>\n",
       "      <td></td>\n",
       "      <td>0.1</td>\n",
       "      <td>-0.2</td>\n",
       "      <td>0</td>\n",
       "      <td>-0.773661</td>\n",
       "    </tr>\n",
       "  </tbody>\n",
       "</table>\n",
       "</div>"
      ],
      "text/plain": [
       "        run operation             started     time     status label  noise  \\\n",
       "2  da896d5a   train() 2019-05-23 16:15:13  0:00:00  completed          0.1   \n",
       "3  da896d59   train() 2019-05-23 16:15:13  0:00:00  completed          0.1   \n",
       "1  da896d5b   train() 2019-05-23 16:15:13  0:00:00  completed          0.1   \n",
       "\n",
       "     x  step      loss  \n",
       "2 -0.3     0 -1.015978  \n",
       "3 -0.4     0 -0.840888  \n",
       "1 -0.2     0 -0.773661  "
      ]
     },
     "execution_count": 63,
     "metadata": {},
     "output_type": "execute_result"
    }
   ],
   "source": [
    "guild.runs().compare().sort_values(by=\"loss\")[:3]"
   ]
  },
  {
   "cell_type": "markdown",
   "metadata": {},
   "source": [
    "Based on our mock training function, the \"best\" result (i.e. the run with the lowest *loss*) should be the run where `x` is close to `-0.3`. Because there's a random component (i.e. the `noise` parameter) your results may show best results with different values for `x`.\n",
    "\n",
    "Below is an image that plots *loss* for values of *x*, showing the lowest loss where x is approximately `-0.3`.\n",
    "\n",
    "<img src=\"bayesian-optimization.png\" style=\"margin-left:0\">\n",
    "\n",
    "[Image credit: *Bayesian optimization with skopt*](https://scikit-optimize.github.io/notebooks/bayesian-optimization.html)"
   ]
  },
  {
   "cell_type": "markdown",
   "metadata": {},
   "source": [
    "## Random search\n",
    "\n",
    "Random search is a method used in machine learning to explore hyperparameter spaces at random.\n",
    "\n",
    "To run a series of runs using random values over a specified range, use the `slice` function to specify a range for a flag. To specify the number of trials, specify `_max_trials`. The default number of trials is `20`.\n",
    "\n",
    "Run train five times with random values of `x` over the range `-2.0` to `2.0`."
   ]
  },
  {
   "cell_type": "code",
   "execution_count": 64,
   "metadata": {},
   "outputs": [
    {
     "name": "stdout",
     "output_type": "stream",
     "text": [
      "Running train (noise=0.1, x=1.2491154696153983):\n",
      "loss: 0.025076\n",
      "Running train (noise=0.1, x=1.26538516214455):\n",
      "loss: 0.111353\n",
      "Running train (noise=0.1, x=0.4020856284714598):\n",
      "loss: 0.784366\n",
      "Running train (noise=0.1, x=-1.828461247675734):\n",
      "loss: 0.156651\n",
      "Running train (noise=0.1, x=0.5696456975259441):\n",
      "loss: 0.184666\n"
     ]
    }
   ],
   "source": [
    "_ = guild.run(train, x=slice(-2.0,2.0), _max_trials=5)"
   ]
  },
  {
   "cell_type": "markdown",
   "metadata": {},
   "source": [
    "Compare the results again."
   ]
  },
  {
   "cell_type": "code",
   "execution_count": 65,
   "metadata": {},
   "outputs": [
    {
     "data": {
      "text/html": [
       "<div>\n",
       "<style scoped>\n",
       "    .dataframe tbody tr th:only-of-type {\n",
       "        vertical-align: middle;\n",
       "    }\n",
       "\n",
       "    .dataframe tbody tr th {\n",
       "        vertical-align: top;\n",
       "    }\n",
       "\n",
       "    .dataframe thead th {\n",
       "        text-align: right;\n",
       "    }\n",
       "</style>\n",
       "<table border=\"1\" class=\"dataframe\">\n",
       "  <thead>\n",
       "    <tr style=\"text-align: right;\">\n",
       "      <th></th>\n",
       "      <th>run</th>\n",
       "      <th>operation</th>\n",
       "      <th>started</th>\n",
       "      <th>time</th>\n",
       "      <th>status</th>\n",
       "      <th>label</th>\n",
       "      <th>noise</th>\n",
       "      <th>x</th>\n",
       "      <th>step</th>\n",
       "      <th>loss</th>\n",
       "    </tr>\n",
       "  </thead>\n",
       "  <tbody>\n",
       "    <tr>\n",
       "      <th>0</th>\n",
       "      <td>dc3e49a6</td>\n",
       "      <td>train()</td>\n",
       "      <td>2019-05-23 16:15:15</td>\n",
       "      <td>0:00:00</td>\n",
       "      <td>completed</td>\n",
       "      <td>random</td>\n",
       "      <td>0.1</td>\n",
       "      <td>0.569646</td>\n",
       "      <td>0</td>\n",
       "      <td>0.184666</td>\n",
       "    </tr>\n",
       "    <tr>\n",
       "      <th>1</th>\n",
       "      <td>dc3e49a5</td>\n",
       "      <td>train()</td>\n",
       "      <td>2019-05-23 16:15:15</td>\n",
       "      <td>0:00:00</td>\n",
       "      <td>completed</td>\n",
       "      <td>random</td>\n",
       "      <td>0.1</td>\n",
       "      <td>-1.828461</td>\n",
       "      <td>0</td>\n",
       "      <td>0.156651</td>\n",
       "    </tr>\n",
       "    <tr>\n",
       "      <th>2</th>\n",
       "      <td>dc3e49a4</td>\n",
       "      <td>train()</td>\n",
       "      <td>2019-05-23 16:15:15</td>\n",
       "      <td>0:00:00</td>\n",
       "      <td>completed</td>\n",
       "      <td>random</td>\n",
       "      <td>0.1</td>\n",
       "      <td>0.402086</td>\n",
       "      <td>0</td>\n",
       "      <td>0.784366</td>\n",
       "    </tr>\n",
       "    <tr>\n",
       "      <th>3</th>\n",
       "      <td>dc3e49a3</td>\n",
       "      <td>train()</td>\n",
       "      <td>2019-05-23 16:15:15</td>\n",
       "      <td>0:00:00</td>\n",
       "      <td>completed</td>\n",
       "      <td>random</td>\n",
       "      <td>0.1</td>\n",
       "      <td>1.265385</td>\n",
       "      <td>0</td>\n",
       "      <td>0.111353</td>\n",
       "    </tr>\n",
       "    <tr>\n",
       "      <th>4</th>\n",
       "      <td>dc3e49a2</td>\n",
       "      <td>train()</td>\n",
       "      <td>2019-05-23 16:15:15</td>\n",
       "      <td>0:00:00</td>\n",
       "      <td>completed</td>\n",
       "      <td>random</td>\n",
       "      <td>0.1</td>\n",
       "      <td>1.249115</td>\n",
       "      <td>0</td>\n",
       "      <td>0.025076</td>\n",
       "    </tr>\n",
       "    <tr>\n",
       "      <th>5</th>\n",
       "      <td>da896d5c</td>\n",
       "      <td>train()</td>\n",
       "      <td>2019-05-23 16:15:13</td>\n",
       "      <td>0:00:00</td>\n",
       "      <td>completed</td>\n",
       "      <td></td>\n",
       "      <td>0.1</td>\n",
       "      <td>-0.100000</td>\n",
       "      <td>0</td>\n",
       "      <td>-0.526886</td>\n",
       "    </tr>\n",
       "    <tr>\n",
       "      <th>6</th>\n",
       "      <td>da896d5b</td>\n",
       "      <td>train()</td>\n",
       "      <td>2019-05-23 16:15:13</td>\n",
       "      <td>0:00:00</td>\n",
       "      <td>completed</td>\n",
       "      <td></td>\n",
       "      <td>0.1</td>\n",
       "      <td>-0.200000</td>\n",
       "      <td>0</td>\n",
       "      <td>-0.773661</td>\n",
       "    </tr>\n",
       "    <tr>\n",
       "      <th>7</th>\n",
       "      <td>da896d5a</td>\n",
       "      <td>train()</td>\n",
       "      <td>2019-05-23 16:15:13</td>\n",
       "      <td>0:00:00</td>\n",
       "      <td>completed</td>\n",
       "      <td></td>\n",
       "      <td>0.1</td>\n",
       "      <td>-0.300000</td>\n",
       "      <td>0</td>\n",
       "      <td>-1.015978</td>\n",
       "    </tr>\n",
       "    <tr>\n",
       "      <th>8</th>\n",
       "      <td>da896d59</td>\n",
       "      <td>train()</td>\n",
       "      <td>2019-05-23 16:15:13</td>\n",
       "      <td>0:00:00</td>\n",
       "      <td>completed</td>\n",
       "      <td></td>\n",
       "      <td>0.1</td>\n",
       "      <td>-0.400000</td>\n",
       "      <td>0</td>\n",
       "      <td>-0.840888</td>\n",
       "    </tr>\n",
       "    <tr>\n",
       "      <th>9</th>\n",
       "      <td>da896d58</td>\n",
       "      <td>train()</td>\n",
       "      <td>2019-05-23 16:15:13</td>\n",
       "      <td>0:00:00</td>\n",
       "      <td>completed</td>\n",
       "      <td></td>\n",
       "      <td>0.1</td>\n",
       "      <td>-0.500000</td>\n",
       "      <td>0</td>\n",
       "      <td>-0.620585</td>\n",
       "    </tr>\n",
       "    <tr>\n",
       "      <th>10</th>\n",
       "      <td>d93d37e0</td>\n",
       "      <td>train()</td>\n",
       "      <td>2019-05-23 16:15:10</td>\n",
       "      <td>0:00:00</td>\n",
       "      <td>completed</td>\n",
       "      <td>run 2</td>\n",
       "      <td>0.1</td>\n",
       "      <td>0.200000</td>\n",
       "      <td>0</td>\n",
       "      <td>0.908333</td>\n",
       "    </tr>\n",
       "    <tr>\n",
       "      <th>11</th>\n",
       "      <td>d10558a0</td>\n",
       "      <td>train()</td>\n",
       "      <td>2019-05-23 16:14:57</td>\n",
       "      <td>0:00:00</td>\n",
       "      <td>completed</td>\n",
       "      <td></td>\n",
       "      <td>0.1</td>\n",
       "      <td>0.100000</td>\n",
       "      <td>0</td>\n",
       "      <td>0.332362</td>\n",
       "    </tr>\n",
       "  </tbody>\n",
       "</table>\n",
       "</div>"
      ],
      "text/plain": [
       "         run operation             started     time     status   label  noise  \\\n",
       "0   dc3e49a6   train() 2019-05-23 16:15:15  0:00:00  completed  random    0.1   \n",
       "1   dc3e49a5   train() 2019-05-23 16:15:15  0:00:00  completed  random    0.1   \n",
       "2   dc3e49a4   train() 2019-05-23 16:15:15  0:00:00  completed  random    0.1   \n",
       "3   dc3e49a3   train() 2019-05-23 16:15:15  0:00:00  completed  random    0.1   \n",
       "4   dc3e49a2   train() 2019-05-23 16:15:15  0:00:00  completed  random    0.1   \n",
       "5   da896d5c   train() 2019-05-23 16:15:13  0:00:00  completed            0.1   \n",
       "6   da896d5b   train() 2019-05-23 16:15:13  0:00:00  completed            0.1   \n",
       "7   da896d5a   train() 2019-05-23 16:15:13  0:00:00  completed            0.1   \n",
       "8   da896d59   train() 2019-05-23 16:15:13  0:00:00  completed            0.1   \n",
       "9   da896d58   train() 2019-05-23 16:15:13  0:00:00  completed            0.1   \n",
       "10  d93d37e0   train() 2019-05-23 16:15:10  0:00:00  completed   run 2    0.1   \n",
       "11  d10558a0   train() 2019-05-23 16:14:57  0:00:00  completed            0.1   \n",
       "\n",
       "           x  step      loss  \n",
       "0   0.569646     0  0.184666  \n",
       "1  -1.828461     0  0.156651  \n",
       "2   0.402086     0  0.784366  \n",
       "3   1.265385     0  0.111353  \n",
       "4   1.249115     0  0.025076  \n",
       "5  -0.100000     0 -0.526886  \n",
       "6  -0.200000     0 -0.773661  \n",
       "7  -0.300000     0 -1.015978  \n",
       "8  -0.400000     0 -0.840888  \n",
       "9  -0.500000     0 -0.620585  \n",
       "10  0.200000     0  0.908333  \n",
       "11  0.100000     0  0.332362  "
      ]
     },
     "execution_count": 65,
     "metadata": {},
     "output_type": "execute_result"
    }
   ],
   "source": [
    "guild.runs().compare()"
   ]
  },
  {
   "cell_type": "markdown",
   "metadata": {},
   "source": [
    "List the three runs with the lowest loss:"
   ]
  },
  {
   "cell_type": "code",
   "execution_count": 66,
   "metadata": {},
   "outputs": [
    {
     "data": {
      "text/html": [
       "<div>\n",
       "<style scoped>\n",
       "    .dataframe tbody tr th:only-of-type {\n",
       "        vertical-align: middle;\n",
       "    }\n",
       "\n",
       "    .dataframe tbody tr th {\n",
       "        vertical-align: top;\n",
       "    }\n",
       "\n",
       "    .dataframe thead th {\n",
       "        text-align: right;\n",
       "    }\n",
       "</style>\n",
       "<table border=\"1\" class=\"dataframe\">\n",
       "  <thead>\n",
       "    <tr style=\"text-align: right;\">\n",
       "      <th></th>\n",
       "      <th>run</th>\n",
       "      <th>operation</th>\n",
       "      <th>started</th>\n",
       "      <th>time</th>\n",
       "      <th>status</th>\n",
       "      <th>label</th>\n",
       "      <th>noise</th>\n",
       "      <th>x</th>\n",
       "      <th>step</th>\n",
       "      <th>loss</th>\n",
       "    </tr>\n",
       "  </thead>\n",
       "  <tbody>\n",
       "    <tr>\n",
       "      <th>7</th>\n",
       "      <td>da896d5a</td>\n",
       "      <td>train()</td>\n",
       "      <td>2019-05-23 16:15:13</td>\n",
       "      <td>0:00:00</td>\n",
       "      <td>completed</td>\n",
       "      <td></td>\n",
       "      <td>0.1</td>\n",
       "      <td>-0.3</td>\n",
       "      <td>0</td>\n",
       "      <td>-1.015978</td>\n",
       "    </tr>\n",
       "    <tr>\n",
       "      <th>8</th>\n",
       "      <td>da896d59</td>\n",
       "      <td>train()</td>\n",
       "      <td>2019-05-23 16:15:13</td>\n",
       "      <td>0:00:00</td>\n",
       "      <td>completed</td>\n",
       "      <td></td>\n",
       "      <td>0.1</td>\n",
       "      <td>-0.4</td>\n",
       "      <td>0</td>\n",
       "      <td>-0.840888</td>\n",
       "    </tr>\n",
       "    <tr>\n",
       "      <th>6</th>\n",
       "      <td>da896d5b</td>\n",
       "      <td>train()</td>\n",
       "      <td>2019-05-23 16:15:13</td>\n",
       "      <td>0:00:00</td>\n",
       "      <td>completed</td>\n",
       "      <td></td>\n",
       "      <td>0.1</td>\n",
       "      <td>-0.2</td>\n",
       "      <td>0</td>\n",
       "      <td>-0.773661</td>\n",
       "    </tr>\n",
       "  </tbody>\n",
       "</table>\n",
       "</div>"
      ],
      "text/plain": [
       "        run operation             started     time     status label  noise  \\\n",
       "7  da896d5a   train() 2019-05-23 16:15:13  0:00:00  completed          0.1   \n",
       "8  da896d59   train() 2019-05-23 16:15:13  0:00:00  completed          0.1   \n",
       "6  da896d5b   train() 2019-05-23 16:15:13  0:00:00  completed          0.1   \n",
       "\n",
       "     x  step      loss  \n",
       "7 -0.3     0 -1.015978  \n",
       "8 -0.4     0 -0.840888  \n",
       "6 -0.2     0 -0.773661  "
      ]
     },
     "execution_count": 66,
     "metadata": {},
     "output_type": "execute_result"
    }
   ],
   "source": [
    "guild.runs().compare().sort_values(by=\"loss\")[:3]"
   ]
  },
  {
   "cell_type": "markdown",
   "metadata": {},
   "source": [
    "## Bayesian optimization\n",
    "\n",
    "Bayesian optimizers use light weight models as surrogates for the target model — surrogates that can be evaluated quickly to recommend likely optimal hyperparameter values — and update those models using results from real trials."
   ]
  },
  {
   "cell_type": "markdown",
   "metadata": {},
   "source": [
    "Run `train` with Guild’s built-in Bayesian optimizer, which uses Gaussian processes. As with the earlier random search, we use Python's slice function to specify the range for `x` over which to search.\n",
    "\n",
    "**NOTE:** The argument `bayesian` in the command is an alias for `gp`, which is a Bayesian optimizer that uses Gaussian processes. Guild supports three Bayesian optimizers: gp, forest and gbrt."
   ]
  },
  {
   "cell_type": "code",
   "execution_count": 67,
   "metadata": {},
   "outputs": [
    {
     "name": "stdout",
     "output_type": "stream",
     "text": [
      "Running train (noise=0.1, x=1.556136206003075):\n",
      "loss: 0.033814\n",
      "Running train (noise=0.1, x=-2.0):\n",
      "loss: 0.101926\n",
      "Running train (noise=0.1, x=2.0):\n",
      "loss: -0.036132\n",
      "Running train (noise=0.1, x=-0.18699811915306785):\n",
      "loss: -0.754781\n",
      "Running train (noise=0.1, x=-0.2783458691539511):\n",
      "loss: -0.795046\n",
      "Running train (noise=0.1, x=-0.7996381776198571):\n",
      "loss: 0.414261\n",
      "Running train (noise=0.1, x=0.08720679270250331):\n",
      "loss: 0.462514\n",
      "Running train (noise=0.1, x=-1.99977889449307):\n",
      "loss: 0.059006\n",
      "Running train (noise=0.1, x=1.9995711109759342):\n",
      "loss: -0.064552\n",
      "Running train (noise=0.1, x=1.9999965526046442):\n",
      "loss: 0.045584\n"
     ]
    }
   ],
   "source": [
    "_ = guild.run(train, x=slice(-2.0,2.0), _optimizer=\"bayesian\", _max_trials=10)"
   ]
  },
  {
   "cell_type": "markdown",
   "metadata": {},
   "source": [
    "View the top 10 results:"
   ]
  },
  {
   "cell_type": "code",
   "execution_count": 68,
   "metadata": {},
   "outputs": [
    {
     "data": {
      "text/html": [
       "<div>\n",
       "<style scoped>\n",
       "    .dataframe tbody tr th:only-of-type {\n",
       "        vertical-align: middle;\n",
       "    }\n",
       "\n",
       "    .dataframe tbody tr th {\n",
       "        vertical-align: top;\n",
       "    }\n",
       "\n",
       "    .dataframe thead th {\n",
       "        text-align: right;\n",
       "    }\n",
       "</style>\n",
       "<table border=\"1\" class=\"dataframe\">\n",
       "  <thead>\n",
       "    <tr style=\"text-align: right;\">\n",
       "      <th></th>\n",
       "      <th>run</th>\n",
       "      <th>operation</th>\n",
       "      <th>started</th>\n",
       "      <th>time</th>\n",
       "      <th>status</th>\n",
       "      <th>label</th>\n",
       "      <th>noise</th>\n",
       "      <th>x</th>\n",
       "      <th>step</th>\n",
       "      <th>loss</th>\n",
       "    </tr>\n",
       "  </thead>\n",
       "  <tbody>\n",
       "    <tr>\n",
       "      <th>17</th>\n",
       "      <td>da896d5a</td>\n",
       "      <td>train()</td>\n",
       "      <td>2019-05-23 16:15:13</td>\n",
       "      <td>0:00:00</td>\n",
       "      <td>completed</td>\n",
       "      <td></td>\n",
       "      <td>0.1</td>\n",
       "      <td>-0.300000</td>\n",
       "      <td>0</td>\n",
       "      <td>-1.015978</td>\n",
       "    </tr>\n",
       "    <tr>\n",
       "      <th>18</th>\n",
       "      <td>da896d59</td>\n",
       "      <td>train()</td>\n",
       "      <td>2019-05-23 16:15:13</td>\n",
       "      <td>0:00:00</td>\n",
       "      <td>completed</td>\n",
       "      <td></td>\n",
       "      <td>0.1</td>\n",
       "      <td>-0.400000</td>\n",
       "      <td>0</td>\n",
       "      <td>-0.840888</td>\n",
       "    </tr>\n",
       "    <tr>\n",
       "      <th>5</th>\n",
       "      <td>e0ae06ac</td>\n",
       "      <td>train()</td>\n",
       "      <td>2019-05-23 16:15:24</td>\n",
       "      <td>0:00:00</td>\n",
       "      <td>completed</td>\n",
       "      <td>gp</td>\n",
       "      <td>0.1</td>\n",
       "      <td>-0.278346</td>\n",
       "      <td>0</td>\n",
       "      <td>-0.795046</td>\n",
       "    </tr>\n",
       "    <tr>\n",
       "      <th>16</th>\n",
       "      <td>da896d5b</td>\n",
       "      <td>train()</td>\n",
       "      <td>2019-05-23 16:15:13</td>\n",
       "      <td>0:00:00</td>\n",
       "      <td>completed</td>\n",
       "      <td></td>\n",
       "      <td>0.1</td>\n",
       "      <td>-0.200000</td>\n",
       "      <td>0</td>\n",
       "      <td>-0.773661</td>\n",
       "    </tr>\n",
       "    <tr>\n",
       "      <th>6</th>\n",
       "      <td>e0ae06ab</td>\n",
       "      <td>train()</td>\n",
       "      <td>2019-05-23 16:15:24</td>\n",
       "      <td>0:00:00</td>\n",
       "      <td>completed</td>\n",
       "      <td>gp</td>\n",
       "      <td>0.1</td>\n",
       "      <td>-0.186998</td>\n",
       "      <td>0</td>\n",
       "      <td>-0.754781</td>\n",
       "    </tr>\n",
       "    <tr>\n",
       "      <th>19</th>\n",
       "      <td>da896d58</td>\n",
       "      <td>train()</td>\n",
       "      <td>2019-05-23 16:15:13</td>\n",
       "      <td>0:00:00</td>\n",
       "      <td>completed</td>\n",
       "      <td></td>\n",
       "      <td>0.1</td>\n",
       "      <td>-0.500000</td>\n",
       "      <td>0</td>\n",
       "      <td>-0.620585</td>\n",
       "    </tr>\n",
       "    <tr>\n",
       "      <th>15</th>\n",
       "      <td>da896d5c</td>\n",
       "      <td>train()</td>\n",
       "      <td>2019-05-23 16:15:13</td>\n",
       "      <td>0:00:00</td>\n",
       "      <td>completed</td>\n",
       "      <td></td>\n",
       "      <td>0.1</td>\n",
       "      <td>-0.100000</td>\n",
       "      <td>0</td>\n",
       "      <td>-0.526886</td>\n",
       "    </tr>\n",
       "    <tr>\n",
       "      <th>1</th>\n",
       "      <td>e1c6c6db</td>\n",
       "      <td>train()</td>\n",
       "      <td>2019-05-23 16:15:26</td>\n",
       "      <td>0:00:00</td>\n",
       "      <td>completed</td>\n",
       "      <td>gp</td>\n",
       "      <td>0.1</td>\n",
       "      <td>1.999571</td>\n",
       "      <td>0</td>\n",
       "      <td>-0.064552</td>\n",
       "    </tr>\n",
       "    <tr>\n",
       "      <th>7</th>\n",
       "      <td>e0ae06aa</td>\n",
       "      <td>train()</td>\n",
       "      <td>2019-05-23 16:15:24</td>\n",
       "      <td>0:00:00</td>\n",
       "      <td>completed</td>\n",
       "      <td>gp</td>\n",
       "      <td>0.1</td>\n",
       "      <td>2.000000</td>\n",
       "      <td>0</td>\n",
       "      <td>-0.036132</td>\n",
       "    </tr>\n",
       "    <tr>\n",
       "      <th>14</th>\n",
       "      <td>dc3e49a2</td>\n",
       "      <td>train()</td>\n",
       "      <td>2019-05-23 16:15:15</td>\n",
       "      <td>0:00:00</td>\n",
       "      <td>completed</td>\n",
       "      <td>random</td>\n",
       "      <td>0.1</td>\n",
       "      <td>1.249115</td>\n",
       "      <td>0</td>\n",
       "      <td>0.025076</td>\n",
       "    </tr>\n",
       "  </tbody>\n",
       "</table>\n",
       "</div>"
      ],
      "text/plain": [
       "         run operation             started     time     status   label  noise  \\\n",
       "17  da896d5a   train() 2019-05-23 16:15:13  0:00:00  completed            0.1   \n",
       "18  da896d59   train() 2019-05-23 16:15:13  0:00:00  completed            0.1   \n",
       "5   e0ae06ac   train() 2019-05-23 16:15:24  0:00:00  completed      gp    0.1   \n",
       "16  da896d5b   train() 2019-05-23 16:15:13  0:00:00  completed            0.1   \n",
       "6   e0ae06ab   train() 2019-05-23 16:15:24  0:00:00  completed      gp    0.1   \n",
       "19  da896d58   train() 2019-05-23 16:15:13  0:00:00  completed            0.1   \n",
       "15  da896d5c   train() 2019-05-23 16:15:13  0:00:00  completed            0.1   \n",
       "1   e1c6c6db   train() 2019-05-23 16:15:26  0:00:00  completed      gp    0.1   \n",
       "7   e0ae06aa   train() 2019-05-23 16:15:24  0:00:00  completed      gp    0.1   \n",
       "14  dc3e49a2   train() 2019-05-23 16:15:15  0:00:00  completed  random    0.1   \n",
       "\n",
       "           x  step      loss  \n",
       "17 -0.300000     0 -1.015978  \n",
       "18 -0.400000     0 -0.840888  \n",
       "5  -0.278346     0 -0.795046  \n",
       "16 -0.200000     0 -0.773661  \n",
       "6  -0.186998     0 -0.754781  \n",
       "19 -0.500000     0 -0.620585  \n",
       "15 -0.100000     0 -0.526886  \n",
       "1   1.999571     0 -0.064552  \n",
       "7   2.000000     0 -0.036132  \n",
       "14  1.249115     0  0.025076  "
      ]
     },
     "execution_count": 68,
     "metadata": {},
     "output_type": "execute_result"
    }
   ],
   "source": [
    "guild.runs().compare().sort_values(by=\"loss\")[:10]"
   ]
  },
  {
   "cell_type": "markdown",
   "metadata": {},
   "source": [
    "## Next steps\n",
    "\n",
    "This Notebook covers basic functionality provided by the `guild.ipy` module. The module lets you run functions and capture results as unique runs. You can view and compare run results using various module functions.\n",
    "\n",
    "Generated runs can be further managed using the Guild command line interface. For more information, refer to [Guild AI Quick Start](https://guild.ai/docs/start/)."
   ]
  }
 ],
 "metadata": {
  "kernelspec": {
   "display_name": "guild",
   "language": "python",
   "name": "guild"
  },
  "language_info": {
   "codemirror_mode": {
    "name": "ipython",
    "version": 3
   },
   "file_extension": ".py",
   "mimetype": "text/x-python",
   "name": "python",
   "nbconvert_exporter": "python",
   "pygments_lexer": "ipython3",
   "version": "3.5.2"
  }
 },
 "nbformat": 4,
 "nbformat_minor": 2
}
