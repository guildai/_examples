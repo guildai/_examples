{
 "cells": [
  {
   "cell_type": "markdown",
   "metadata": {},
   "source": [
    "# Guild AI Interactive Python Quick Start\n",
    "\n",
    "This Notebook mirrors the steps in [Guild AI Quick Start](https://guild.ai/docs/start/):\n",
    "\n",
    "- Part 1 - Experiment basics\n",
    "    - Create a mock training function\n",
    "    - Generate a run with Guild\n",
    "    - Examine the run\n",
    "    - Generate a second run\n",
    "    - Compare runs\n",
    "- Part 2 - Hyperparameter optimization\n",
    "\n",
    "It features the module `guild.ipy`, which is a Python interface that can be used interactively in Notebooks or by your own Python code. "
   ]
  },
  {
   "cell_type": "markdown",
   "metadata": {},
   "source": [
    "## Notebooks config\n",
    "\n",
    "Modify the variables below to change Notebook configuration."
   ]
  },
  {
   "cell_type": "markdown",
   "metadata": {},
   "source": [
    "`GULID_HOME` is the location of generated runs. By default it is the location subdirectory \"guild-env\". Note that we initialize this directory below by permanently deleting any runs it contains before proceeding. If you don't want to delete runs in `GUILD_HOME`, set `DELETE_RUNS_ON_INIT` to `False` below."
   ]
  },
  {
   "cell_type": "code",
   "execution_count": 1,
   "metadata": {},
   "outputs": [],
   "source": [
    "GUILD_HOME = \"guild-env\""
   ]
  },
  {
   "cell_type": "markdown",
   "metadata": {},
   "source": [
    "`DELETE_RUNS_ON_INIT` determines whether or not runs are initially deleted from `GUILD_HOME` below. As this Notebook is for demonstration purposes, it's usually a good idea to delete any existing runs before proceeding. To prevent any runs from being deleted, set `DELETE_RUNS_ON_INIT` to `False`."
   ]
  },
  {
   "cell_type": "code",
   "execution_count": 2,
   "metadata": {},
   "outputs": [],
   "source": [
    "DELETE_RUNS_ON_INIT = True"
   ]
  },
  {
   "cell_type": "markdown",
   "metadata": {},
   "source": [
    "## Guild interactive Python API\n",
    "\n",
    "Guild AI functionality is available through a Notebook compatible interface defined in `guild.ipy`.\n",
    "\n",
    "Import this module as `guild`:"
   ]
  },
  {
   "cell_type": "code",
   "execution_count": 3,
   "metadata": {},
   "outputs": [],
   "source": [
    "import guild.ipy as guild"
   ]
  },
  {
   "cell_type": "markdown",
   "metadata": {},
   "source": [
    "## Initialize Guild Home\n",
    "\n",
    "Guild home is a directory containing the runs that Guild generates. This Notebook uses the directory defined by `GUILD_HOME`. Ensure that the directory exists and use `set_guild_home()` to set the value. "
   ]
  },
  {
   "cell_type": "code",
   "execution_count": 4,
   "metadata": {},
   "outputs": [],
   "source": [
    "import os\n",
    "\n",
    "if not os.path.exists(GUILD_HOME):\n",
    "    os.mkdir(\"guild-env\")\n",
    "    \n",
    "guild.set_guild_home(\"guild-env\")"
   ]
  },
  {
   "cell_type": "markdown",
   "metadata": {},
   "source": [
    "Clear the director of any runs."
   ]
  },
  {
   "cell_type": "code",
   "execution_count": 31,
   "metadata": {},
   "outputs": [
    {
     "name": "stdout",
     "output_type": "stream",
     "text": [
      "Deleted 1 run(s)\n"
     ]
    }
   ],
   "source": [
    "if DELETE_RUNS_ON_INIT:\n",
    "    deleted = guild.runs().delete(permanent=True)\n",
    "    print(\"Deleted %i run(s)\" % len(deleted))"
   ]
  },
  {
   "cell_type": "markdown",
   "metadata": {},
   "source": [
    "## Mock training function\n",
    "\n",
    "Create a mock training script. This function doesn’t actually train anything, but simulates the training process of accepting hyperparameters as inputs and generating a loss."
   ]
  },
  {
   "cell_type": "code",
   "execution_count": 32,
   "metadata": {},
   "outputs": [],
   "source": [
    "import numpy as np\n",
    "\n",
    "def train(x=0.1, noise=0.1):\n",
    "    loss = (np.sin(5 * x) * (1 - np.tanh(x ** 2)) + np.random.randn() * noise)\n",
    "    print(\"loss: %f\" % loss)"
   ]
  },
  {
   "cell_type": "markdown",
   "metadata": {},
   "source": [
    "Run the mock training function a couple times to see how it works.\n",
    "\n",
    "**NOTE:** The function uses a random component to simulate training \"noise\". This causes the results to differ across runs."
   ]
  },
  {
   "cell_type": "code",
   "execution_count": 33,
   "metadata": {},
   "outputs": [
    {
     "name": "stdout",
     "output_type": "stream",
     "text": [
      "Trial 1:\n",
      "loss: 0.180942\n"
     ]
    }
   ],
   "source": [
    "print(\"Trial 1:\")\n",
    "train(x=-2.0)"
   ]
  },
  {
   "cell_type": "code",
   "execution_count": 34,
   "metadata": {},
   "outputs": [
    {
     "name": "stdout",
     "output_type": "stream",
     "text": [
      "Trial 2:\n",
      "loss: 0.037488\n"
     ]
    }
   ],
   "source": [
    "print(\"Trial 2:\")\n",
    "train(x=0.0)"
   ]
  },
  {
   "cell_type": "code",
   "execution_count": 35,
   "metadata": {},
   "outputs": [
    {
     "name": "stdout",
     "output_type": "stream",
     "text": [
      "Trial 3:\n",
      "loss: 0.202648\n"
     ]
    }
   ],
   "source": [
    "print(\"Trial 3:\")\n",
    "train(x=2.0)"
   ]
  },
  {
   "cell_type": "markdown",
   "metadata": {},
   "source": [
    "## Generate a run"
   ]
  },
  {
   "cell_type": "markdown",
   "metadata": {},
   "source": [
    "Run the mock train function using Guild:"
   ]
  },
  {
   "cell_type": "code",
   "execution_count": 36,
   "metadata": {},
   "outputs": [
    {
     "name": "stdout",
     "output_type": "stream",
     "text": [
      "loss: 0.574138\n"
     ]
    }
   ],
   "source": [
    "run, return_val = guild.run(train)"
   ]
  },
  {
   "cell_type": "markdown",
   "metadata": {},
   "source": [
    "The `run()` function returns a tuple of the Guild run and the return value of the function.\n",
    "\n",
    "In this case, our mock training function doesn't return a value."
   ]
  },
  {
   "cell_type": "code",
   "execution_count": 37,
   "metadata": {},
   "outputs": [
    {
     "name": "stdout",
     "output_type": "stream",
     "text": [
      "None\n"
     ]
    }
   ],
   "source": [
    "print(return_val)"
   ]
  },
  {
   "cell_type": "markdown",
   "metadata": {},
   "source": [
    "The `run` variable is a Python object that represents the run."
   ]
  },
  {
   "cell_type": "markdown",
   "metadata": {},
   "source": [
    "## Examine the run"
   ]
  },
  {
   "cell_type": "markdown",
   "metadata": {},
   "source": [
    "We can work with the run object directly to get information about it."
   ]
  },
  {
   "cell_type": "markdown",
   "metadata": {},
   "source": [
    "Each run has a uniqiue ID:"
   ]
  },
  {
   "cell_type": "code",
   "execution_count": 38,
   "metadata": {},
   "outputs": [
    {
     "data": {
      "text/plain": [
       "'658428347af411e9b40fe4a471939b0d'"
      ]
     },
     "execution_count": 38,
     "metadata": {},
     "output_type": "execute_result"
    }
   ],
   "source": [
    "run.id"
   ]
  },
  {
   "cell_type": "markdown",
   "metadata": {},
   "source": [
    "Each run is associated with a unique directory, which includes the ID. The run directory contains metadata and output associated with the run."
   ]
  },
  {
   "cell_type": "code",
   "execution_count": 39,
   "metadata": {},
   "outputs": [
    {
     "data": {
      "text/plain": [
       "'guild-env/runs/658428347af411e9b40fe4a471939b0d'"
      ]
     },
     "execution_count": 39,
     "metadata": {},
     "output_type": "execute_result"
    }
   ],
   "source": [
    "run.dir"
   ]
  },
  {
   "cell_type": "markdown",
   "metadata": {},
   "source": [
    "Our mock training script doesn't generate any files, so the run directory is empty, with the exception of a `.guild` subdirectory."
   ]
  },
  {
   "cell_type": "code",
   "execution_count": 40,
   "metadata": {},
   "outputs": [
    {
     "data": {
      "text/plain": [
       "['.guild']"
      ]
     },
     "execution_count": 40,
     "metadata": {},
     "output_type": "execute_result"
    }
   ],
   "source": [
    "os.listdir(run.dir)"
   ]
  },
  {
   "cell_type": "markdown",
   "metadata": {},
   "source": [
    "The `.guild` subdirectory contains run output and metadata. Outputs include the output printed to the script during the operation (`output`) and any scalars logged (`events.*`). Guild logs scalar output using TensorFlow event files, which can be read using TensorBoard."
   ]
  },
  {
   "cell_type": "code",
   "execution_count": 41,
   "metadata": {},
   "outputs": [
    {
     "data": {
      "text/plain": [
       "['output', 'opref', 'events.out.tfevents.1558352570.omaha', 'attrs']"
      ]
     },
     "execution_count": 41,
     "metadata": {},
     "output_type": "execute_result"
    }
   ],
   "source": [
    "os.listdir(os.path.join(run.dir, \".guild\"))"
   ]
  },
  {
   "cell_type": "markdown",
   "metadata": {},
   "source": [
    "Run metadata includes *attributes*. You can list the attribute names using `attr_names()`:"
   ]
  },
  {
   "cell_type": "code",
   "execution_count": 42,
   "metadata": {},
   "outputs": [
    {
     "data": {
      "text/plain": [
       "['exit_status', 'flags', 'id', 'initialized', 'started', 'stopped']"
      ]
     },
     "execution_count": 42,
     "metadata": {},
     "output_type": "execute_result"
    }
   ],
   "source": [
    "run.attr_names()"
   ]
  },
  {
   "cell_type": "markdown",
   "metadata": {},
   "source": [
    "Read an attribute value using `get()`. For example, to read the *flags* attribute, use:"
   ]
  },
  {
   "cell_type": "code",
   "execution_count": 43,
   "metadata": {},
   "outputs": [
    {
     "data": {
      "text/plain": [
       "{'noise': 0.1, 'x': 0.1}"
      ]
     },
     "execution_count": 43,
     "metadata": {},
     "output_type": "execute_result"
    }
   ],
   "source": [
    "run.get(\"flags\")"
   ]
  },
  {
   "cell_type": "markdown",
   "metadata": {},
   "source": [
    "Flags are values provided to the function. In this case, both values are defined as function keyword default values. Later you run `train` using explicit flag values."
   ]
  },
  {
   "cell_type": "markdown",
   "metadata": {},
   "source": [
    "Each run has a *status*, which indicates if the run is still running and whether or not it completed successfully or terminated with an error."
   ]
  },
  {
   "cell_type": "code",
   "execution_count": 44,
   "metadata": {},
   "outputs": [
    {
     "data": {
      "text/plain": [
       "'completed'"
      ]
     },
     "execution_count": 44,
     "metadata": {},
     "output_type": "execute_result"
    }
   ],
   "source": [
    "run.status"
   ]
  },
  {
   "cell_type": "markdown",
   "metadata": {},
   "source": [
    "## List runs"
   ]
  },
  {
   "cell_type": "markdown",
   "metadata": {},
   "source": [
    "List runs using `guild.runs()`:"
   ]
  },
  {
   "cell_type": "code",
   "execution_count": 45,
   "metadata": {},
   "outputs": [
    {
     "data": {
      "text/html": [
       "<div>\n",
       "<style scoped>\n",
       "    .dataframe tbody tr th:only-of-type {\n",
       "        vertical-align: middle;\n",
       "    }\n",
       "\n",
       "    .dataframe tbody tr th {\n",
       "        vertical-align: top;\n",
       "    }\n",
       "\n",
       "    .dataframe thead th {\n",
       "        text-align: right;\n",
       "    }\n",
       "</style>\n",
       "<table border=\"1\" class=\"dataframe\">\n",
       "  <thead>\n",
       "    <tr style=\"text-align: right;\">\n",
       "      <th></th>\n",
       "      <th>run</th>\n",
       "      <th>operation</th>\n",
       "      <th>started</th>\n",
       "      <th>status</th>\n",
       "      <th>label</th>\n",
       "    </tr>\n",
       "  </thead>\n",
       "  <tbody>\n",
       "    <tr>\n",
       "      <th>0</th>\n",
       "      <td>65842834</td>\n",
       "      <td>train()</td>\n",
       "      <td>2019-05-20 06:42:50</td>\n",
       "      <td>completed</td>\n",
       "      <td></td>\n",
       "    </tr>\n",
       "  </tbody>\n",
       "</table>\n",
       "</div>"
      ],
      "text/plain": [
       "        run operation             started     status label\n",
       "0  65842834   train() 2019-05-20 06:42:50  completed      "
      ]
     },
     "execution_count": 45,
     "metadata": {},
     "output_type": "execute_result"
    }
   ],
   "source": [
    "runs = guild.runs()\n",
    "runs"
   ]
  },
  {
   "cell_type": "markdown",
   "metadata": {},
   "source": [
    "Each time you run an operation, the run appears in the data frame generated by `runs()`."
   ]
  },
  {
   "cell_type": "markdown",
   "metadata": {},
   "source": [
    "## Print run info"
   ]
  },
  {
   "cell_type": "markdown",
   "metadata": {},
   "source": [
    "From `runs`, we can print information for the latest run using `runs.info()`."
   ]
  },
  {
   "cell_type": "code",
   "execution_count": 46,
   "metadata": {},
   "outputs": [
    {
     "name": "stdout",
     "output_type": "stream",
     "text": [
      "id: 658428347af411e9b40fe4a471939b0d\n",
      "operation: train()\n",
      "status: completed\n",
      "started: 2019-05-20 06:42:50\n",
      "stopped: 2019-05-20 06:42:50\n",
      "label: \n",
      "run_dir: ~/SCM/guild-examples/notebooks/guild-env/runs/658428347af411e9b40fe4a471939b0d\n",
      "flags:\n",
      "  noise: 0.1\n",
      "  x: 0.1\n"
     ]
    }
   ],
   "source": [
    "runs.info()"
   ]
  },
  {
   "cell_type": "markdown",
   "metadata": {},
   "source": [
    "This information reflects the information you saw in the prior section."
   ]
  },
  {
   "cell_type": "markdown",
   "metadata": {},
   "source": [
    "## Run scalars\n",
    "\n",
    "Run results are recorded as *scalars*. You can list scalars in two ways.\n",
    "\n",
    "First, you can specify the `scalars` flag to `info()`:"
   ]
  },
  {
   "cell_type": "code",
   "execution_count": 47,
   "metadata": {},
   "outputs": [
    {
     "name": "stdout",
     "output_type": "stream",
     "text": [
      "id: 658428347af411e9b40fe4a471939b0d\n",
      "operation: train()\n",
      "status: completed\n",
      "started: 2019-05-20 06:42:50\n",
      "stopped: 2019-05-20 06:42:50\n",
      "label: \n",
      "run_dir: ~/SCM/guild-examples/notebooks/guild-env/runs/658428347af411e9b40fe4a471939b0d\n",
      "flags:\n",
      "  noise: 0.1\n",
      "  x: 0.1\n",
      "scalars:\n",
      "  loss: 0.574138 (step 0)\n"
     ]
    }
   ],
   "source": [
    "runs.info(scalars=True)"
   ]
  },
  {
   "cell_type": "markdown",
   "metadata": {},
   "source": [
    "Second, you can get a data frame containing scalars using the `scalars()` method."
   ]
  },
  {
   "cell_type": "code",
   "execution_count": 48,
   "metadata": {},
   "outputs": [
    {
     "data": {
      "text/html": [
       "<div>\n",
       "<style scoped>\n",
       "    .dataframe tbody tr th:only-of-type {\n",
       "        vertical-align: middle;\n",
       "    }\n",
       "\n",
       "    .dataframe tbody tr th {\n",
       "        vertical-align: top;\n",
       "    }\n",
       "\n",
       "    .dataframe thead th {\n",
       "        text-align: right;\n",
       "    }\n",
       "</style>\n",
       "<table border=\"1\" class=\"dataframe\">\n",
       "  <thead>\n",
       "    <tr style=\"text-align: right;\">\n",
       "      <th></th>\n",
       "      <th>avg_val</th>\n",
       "      <th>count</th>\n",
       "      <th>first_step</th>\n",
       "      <th>first_val</th>\n",
       "      <th>last_step</th>\n",
       "      <th>last_val</th>\n",
       "      <th>max_step</th>\n",
       "      <th>max_val</th>\n",
       "      <th>min_step</th>\n",
       "      <th>min_val</th>\n",
       "      <th>prefix</th>\n",
       "      <th>run</th>\n",
       "      <th>tag</th>\n",
       "      <th>total</th>\n",
       "    </tr>\n",
       "  </thead>\n",
       "  <tbody>\n",
       "    <tr>\n",
       "      <th>0</th>\n",
       "      <td>0.574138</td>\n",
       "      <td>1</td>\n",
       "      <td>0</td>\n",
       "      <td>0.574138</td>\n",
       "      <td>0</td>\n",
       "      <td>0.574138</td>\n",
       "      <td>0</td>\n",
       "      <td>0.574138</td>\n",
       "      <td>0</td>\n",
       "      <td>0.574138</td>\n",
       "      <td></td>\n",
       "      <td>658428347af411e9b40fe4a471939b0d</td>\n",
       "      <td>loss</td>\n",
       "      <td>0.574138</td>\n",
       "    </tr>\n",
       "  </tbody>\n",
       "</table>\n",
       "</div>"
      ],
      "text/plain": [
       "    avg_val  count  first_step  first_val  last_step  last_val  max_step  \\\n",
       "0  0.574138      1           0   0.574138          0  0.574138         0   \n",
       "\n",
       "    max_val  min_step   min_val prefix                               run  \\\n",
       "0  0.574138         0  0.574138         658428347af411e9b40fe4a471939b0d   \n",
       "\n",
       "    tag     total  \n",
       "0  loss  0.574138  "
      ]
     },
     "execution_count": 48,
     "metadata": {},
     "output_type": "execute_result"
    }
   ],
   "source": [
    "scalars = runs.scalars()\n",
    "scalars"
   ]
  },
  {
   "cell_type": "markdown",
   "metadata": {},
   "source": [
    "Guild stores aggregates of each tag, including *first*, *last*, *max*, *min*, and *average*."
   ]
  },
  {
   "cell_type": "markdown",
   "metadata": {},
   "source": [
    "You can use the various facilities in data frame to get scalar values."
   ]
  },
  {
   "cell_type": "code",
   "execution_count": 49,
   "metadata": {},
   "outputs": [
    {
     "data": {
      "text/plain": [
       "0    0.574138\n",
       "Name: last_val, dtype: float64"
      ]
     },
     "execution_count": 49,
     "metadata": {},
     "output_type": "execute_result"
    }
   ],
   "source": [
    "scalars.query(\"(run == '%s') and (tag == 'loss')\" % run.id)[\"last_val\"]"
   ]
  },
  {
   "cell_type": "markdown",
   "metadata": {},
   "source": [
    "## Generate a second run"
   ]
  },
  {
   "cell_type": "markdown",
   "metadata": {},
   "source": [
    "Run train again with different flags along with a run *label*:"
   ]
  },
  {
   "cell_type": "code",
   "execution_count": 50,
   "metadata": {},
   "outputs": [
    {
     "name": "stdout",
     "output_type": "stream",
     "text": [
      "loss: 0.893944\n"
     ]
    }
   ],
   "source": [
    "_ = guild.run(train, x=0.2, _label=\"run 2\")"
   ]
  },
  {
   "cell_type": "markdown",
   "metadata": {},
   "source": [
    "List runs:"
   ]
  },
  {
   "cell_type": "code",
   "execution_count": 51,
   "metadata": {},
   "outputs": [
    {
     "data": {
      "text/html": [
       "<div>\n",
       "<style scoped>\n",
       "    .dataframe tbody tr th:only-of-type {\n",
       "        vertical-align: middle;\n",
       "    }\n",
       "\n",
       "    .dataframe tbody tr th {\n",
       "        vertical-align: top;\n",
       "    }\n",
       "\n",
       "    .dataframe thead th {\n",
       "        text-align: right;\n",
       "    }\n",
       "</style>\n",
       "<table border=\"1\" class=\"dataframe\">\n",
       "  <thead>\n",
       "    <tr style=\"text-align: right;\">\n",
       "      <th></th>\n",
       "      <th>run</th>\n",
       "      <th>operation</th>\n",
       "      <th>started</th>\n",
       "      <th>status</th>\n",
       "      <th>label</th>\n",
       "    </tr>\n",
       "  </thead>\n",
       "  <tbody>\n",
       "    <tr>\n",
       "      <th>0</th>\n",
       "      <td>7c5a8f1c</td>\n",
       "      <td>train()</td>\n",
       "      <td>2019-05-20 06:43:28</td>\n",
       "      <td>completed</td>\n",
       "      <td>run 2</td>\n",
       "    </tr>\n",
       "    <tr>\n",
       "      <th>1</th>\n",
       "      <td>65842834</td>\n",
       "      <td>train()</td>\n",
       "      <td>2019-05-20 06:42:50</td>\n",
       "      <td>completed</td>\n",
       "      <td></td>\n",
       "    </tr>\n",
       "  </tbody>\n",
       "</table>\n",
       "</div>"
      ],
      "text/plain": [
       "        run operation             started     status  label\n",
       "0  7c5a8f1c   train() 2019-05-20 06:43:28  completed  run 2\n",
       "1  65842834   train() 2019-05-20 06:42:50  completed       "
      ]
     },
     "execution_count": 51,
     "metadata": {},
     "output_type": "execute_result"
    }
   ],
   "source": [
    "guild.runs()"
   ]
  },
  {
   "cell_type": "markdown",
   "metadata": {},
   "source": [
    "Note that the latest run contains the label \"run 2\" as specified in the `run()` call."
   ]
  },
  {
   "cell_type": "markdown",
   "metadata": {},
   "source": [
    "## Compare runs\n",
    "\n",
    "Use `compare()` to generate a data frame containing both flags and scalars."
   ]
  },
  {
   "cell_type": "code",
   "execution_count": 52,
   "metadata": {},
   "outputs": [
    {
     "data": {
      "text/html": [
       "<div>\n",
       "<style scoped>\n",
       "    .dataframe tbody tr th:only-of-type {\n",
       "        vertical-align: middle;\n",
       "    }\n",
       "\n",
       "    .dataframe tbody tr th {\n",
       "        vertical-align: top;\n",
       "    }\n",
       "\n",
       "    .dataframe thead th {\n",
       "        text-align: right;\n",
       "    }\n",
       "</style>\n",
       "<table border=\"1\" class=\"dataframe\">\n",
       "  <thead>\n",
       "    <tr style=\"text-align: right;\">\n",
       "      <th></th>\n",
       "      <th>run</th>\n",
       "      <th>operation</th>\n",
       "      <th>started</th>\n",
       "      <th>time</th>\n",
       "      <th>status</th>\n",
       "      <th>label</th>\n",
       "      <th>noise</th>\n",
       "      <th>x</th>\n",
       "      <th>step</th>\n",
       "      <th>loss</th>\n",
       "    </tr>\n",
       "  </thead>\n",
       "  <tbody>\n",
       "    <tr>\n",
       "      <th>0</th>\n",
       "      <td>7c5a8f1c</td>\n",
       "      <td>train()</td>\n",
       "      <td>2019-05-20 06:43:28</td>\n",
       "      <td>0:00:00</td>\n",
       "      <td>completed</td>\n",
       "      <td>run 2</td>\n",
       "      <td>0.1</td>\n",
       "      <td>0.2</td>\n",
       "      <td>0</td>\n",
       "      <td>0.893944</td>\n",
       "    </tr>\n",
       "    <tr>\n",
       "      <th>1</th>\n",
       "      <td>65842834</td>\n",
       "      <td>train()</td>\n",
       "      <td>2019-05-20 06:42:50</td>\n",
       "      <td>0:00:00</td>\n",
       "      <td>completed</td>\n",
       "      <td></td>\n",
       "      <td>0.1</td>\n",
       "      <td>0.1</td>\n",
       "      <td>0</td>\n",
       "      <td>0.574138</td>\n",
       "    </tr>\n",
       "  </tbody>\n",
       "</table>\n",
       "</div>"
      ],
      "text/plain": [
       "        run operation             started     time     status  label  noise  \\\n",
       "0  7c5a8f1c   train() 2019-05-20 06:43:28  0:00:00  completed  run 2    0.1   \n",
       "1  65842834   train() 2019-05-20 06:42:50  0:00:00  completed           0.1   \n",
       "\n",
       "     x  step      loss  \n",
       "0  0.2     0  0.893944  \n",
       "1  0.1     0  0.574138  "
      ]
     },
     "execution_count": 52,
     "metadata": {},
     "output_type": "execute_result"
    }
   ],
   "source": [
    "guild.runs().compare()"
   ]
  },
  {
   "cell_type": "markdown",
   "metadata": {},
   "source": [
    "## Grid search\n",
    "\n",
    "Grid search &mdash; also referred to as a parameter sweep &mdash; is a form of hyperparameter tuning that uses exhaustive search over a manually defined set of hyperparameter values.\n",
    "\n",
    "To perform a grid search in Guild, provide a list of values to use for any given flag. If you specify lists for multiple flags, Guild runs trials for each possible flag value combination."
   ]
  },
  {
   "cell_type": "markdown",
   "metadata": {},
   "source": [
    "Run `train()` using a range of values:"
   ]
  },
  {
   "cell_type": "code",
   "execution_count": 53,
   "metadata": {},
   "outputs": [
    {
     "name": "stdout",
     "output_type": "stream",
     "text": [
      "Running train (noise=0.1, x=-0.5):\n",
      "loss: -0.449091\n",
      "Running train (noise=0.1, x=-0.4):\n",
      "loss: -0.532630\n",
      "Running train (noise=0.1, x=-0.3):\n",
      "loss: -0.854539\n",
      "Running train (noise=0.1, x=-0.2):\n",
      "loss: -0.738916\n",
      "Running train (noise=0.1, x=-0.1):\n",
      "loss: -0.578615\n"
     ]
    }
   ],
   "source": [
    "_ = guild.run(train, x=[-0.5,-0.4,-0.3,-0.2,-0.1])"
   ]
  },
  {
   "cell_type": "markdown",
   "metadata": {},
   "source": [
    "This command generates five trials, one for each specified value of `x`.\n",
    "\n",
    "Use `runs().compare()[:5]` to compare the last five results:"
   ]
  },
  {
   "cell_type": "code",
   "execution_count": 54,
   "metadata": {},
   "outputs": [
    {
     "data": {
      "text/html": [
       "<div>\n",
       "<style scoped>\n",
       "    .dataframe tbody tr th:only-of-type {\n",
       "        vertical-align: middle;\n",
       "    }\n",
       "\n",
       "    .dataframe tbody tr th {\n",
       "        vertical-align: top;\n",
       "    }\n",
       "\n",
       "    .dataframe thead th {\n",
       "        text-align: right;\n",
       "    }\n",
       "</style>\n",
       "<table border=\"1\" class=\"dataframe\">\n",
       "  <thead>\n",
       "    <tr style=\"text-align: right;\">\n",
       "      <th></th>\n",
       "      <th>run</th>\n",
       "      <th>operation</th>\n",
       "      <th>started</th>\n",
       "      <th>time</th>\n",
       "      <th>status</th>\n",
       "      <th>label</th>\n",
       "      <th>noise</th>\n",
       "      <th>x</th>\n",
       "      <th>step</th>\n",
       "      <th>loss</th>\n",
       "    </tr>\n",
       "  </thead>\n",
       "  <tbody>\n",
       "    <tr>\n",
       "      <th>0</th>\n",
       "      <td>80a7905a</td>\n",
       "      <td>train()</td>\n",
       "      <td>2019-05-20 06:43:36</td>\n",
       "      <td>0:00:00</td>\n",
       "      <td>completed</td>\n",
       "      <td></td>\n",
       "      <td>0.1</td>\n",
       "      <td>-0.1</td>\n",
       "      <td>0</td>\n",
       "      <td>-0.578615</td>\n",
       "    </tr>\n",
       "    <tr>\n",
       "      <th>1</th>\n",
       "      <td>80a79059</td>\n",
       "      <td>train()</td>\n",
       "      <td>2019-05-20 06:43:36</td>\n",
       "      <td>0:00:00</td>\n",
       "      <td>completed</td>\n",
       "      <td></td>\n",
       "      <td>0.1</td>\n",
       "      <td>-0.2</td>\n",
       "      <td>0</td>\n",
       "      <td>-0.738916</td>\n",
       "    </tr>\n",
       "    <tr>\n",
       "      <th>2</th>\n",
       "      <td>80a79058</td>\n",
       "      <td>train()</td>\n",
       "      <td>2019-05-20 06:43:36</td>\n",
       "      <td>0:00:00</td>\n",
       "      <td>completed</td>\n",
       "      <td></td>\n",
       "      <td>0.1</td>\n",
       "      <td>-0.3</td>\n",
       "      <td>0</td>\n",
       "      <td>-0.854539</td>\n",
       "    </tr>\n",
       "    <tr>\n",
       "      <th>3</th>\n",
       "      <td>80a79057</td>\n",
       "      <td>train()</td>\n",
       "      <td>2019-05-20 06:43:36</td>\n",
       "      <td>0:00:00</td>\n",
       "      <td>completed</td>\n",
       "      <td></td>\n",
       "      <td>0.1</td>\n",
       "      <td>-0.4</td>\n",
       "      <td>0</td>\n",
       "      <td>-0.532630</td>\n",
       "    </tr>\n",
       "    <tr>\n",
       "      <th>4</th>\n",
       "      <td>80a79056</td>\n",
       "      <td>train()</td>\n",
       "      <td>2019-05-20 06:43:36</td>\n",
       "      <td>0:00:00</td>\n",
       "      <td>completed</td>\n",
       "      <td></td>\n",
       "      <td>0.1</td>\n",
       "      <td>-0.5</td>\n",
       "      <td>0</td>\n",
       "      <td>-0.449091</td>\n",
       "    </tr>\n",
       "  </tbody>\n",
       "</table>\n",
       "</div>"
      ],
      "text/plain": [
       "        run operation             started     time     status label  noise  \\\n",
       "0  80a7905a   train() 2019-05-20 06:43:36  0:00:00  completed          0.1   \n",
       "1  80a79059   train() 2019-05-20 06:43:36  0:00:00  completed          0.1   \n",
       "2  80a79058   train() 2019-05-20 06:43:36  0:00:00  completed          0.1   \n",
       "3  80a79057   train() 2019-05-20 06:43:36  0:00:00  completed          0.1   \n",
       "4  80a79056   train() 2019-05-20 06:43:36  0:00:00  completed          0.1   \n",
       "\n",
       "     x  step      loss  \n",
       "0 -0.1     0 -0.578615  \n",
       "1 -0.2     0 -0.738916  \n",
       "2 -0.3     0 -0.854539  \n",
       "3 -0.4     0 -0.532630  \n",
       "4 -0.5     0 -0.449091  "
      ]
     },
     "execution_count": 54,
     "metadata": {},
     "output_type": "execute_result"
    }
   ],
   "source": [
    "guild.runs().compare()[:5]"
   ]
  },
  {
   "cell_type": "markdown",
   "metadata": {},
   "source": [
    "View the top-three results by loss:"
   ]
  },
  {
   "cell_type": "code",
   "execution_count": 55,
   "metadata": {},
   "outputs": [
    {
     "data": {
      "text/html": [
       "<div>\n",
       "<style scoped>\n",
       "    .dataframe tbody tr th:only-of-type {\n",
       "        vertical-align: middle;\n",
       "    }\n",
       "\n",
       "    .dataframe tbody tr th {\n",
       "        vertical-align: top;\n",
       "    }\n",
       "\n",
       "    .dataframe thead th {\n",
       "        text-align: right;\n",
       "    }\n",
       "</style>\n",
       "<table border=\"1\" class=\"dataframe\">\n",
       "  <thead>\n",
       "    <tr style=\"text-align: right;\">\n",
       "      <th></th>\n",
       "      <th>run</th>\n",
       "      <th>operation</th>\n",
       "      <th>started</th>\n",
       "      <th>time</th>\n",
       "      <th>status</th>\n",
       "      <th>label</th>\n",
       "      <th>noise</th>\n",
       "      <th>x</th>\n",
       "      <th>step</th>\n",
       "      <th>loss</th>\n",
       "    </tr>\n",
       "  </thead>\n",
       "  <tbody>\n",
       "    <tr>\n",
       "      <th>2</th>\n",
       "      <td>80a79058</td>\n",
       "      <td>train()</td>\n",
       "      <td>2019-05-20 06:43:36</td>\n",
       "      <td>0:00:00</td>\n",
       "      <td>completed</td>\n",
       "      <td></td>\n",
       "      <td>0.1</td>\n",
       "      <td>-0.3</td>\n",
       "      <td>0</td>\n",
       "      <td>-0.854539</td>\n",
       "    </tr>\n",
       "    <tr>\n",
       "      <th>1</th>\n",
       "      <td>80a79059</td>\n",
       "      <td>train()</td>\n",
       "      <td>2019-05-20 06:43:36</td>\n",
       "      <td>0:00:00</td>\n",
       "      <td>completed</td>\n",
       "      <td></td>\n",
       "      <td>0.1</td>\n",
       "      <td>-0.2</td>\n",
       "      <td>0</td>\n",
       "      <td>-0.738916</td>\n",
       "    </tr>\n",
       "    <tr>\n",
       "      <th>0</th>\n",
       "      <td>80a7905a</td>\n",
       "      <td>train()</td>\n",
       "      <td>2019-05-20 06:43:36</td>\n",
       "      <td>0:00:00</td>\n",
       "      <td>completed</td>\n",
       "      <td></td>\n",
       "      <td>0.1</td>\n",
       "      <td>-0.1</td>\n",
       "      <td>0</td>\n",
       "      <td>-0.578615</td>\n",
       "    </tr>\n",
       "  </tbody>\n",
       "</table>\n",
       "</div>"
      ],
      "text/plain": [
       "        run operation             started     time     status label  noise  \\\n",
       "2  80a79058   train() 2019-05-20 06:43:36  0:00:00  completed          0.1   \n",
       "1  80a79059   train() 2019-05-20 06:43:36  0:00:00  completed          0.1   \n",
       "0  80a7905a   train() 2019-05-20 06:43:36  0:00:00  completed          0.1   \n",
       "\n",
       "     x  step      loss  \n",
       "2 -0.3     0 -0.854539  \n",
       "1 -0.2     0 -0.738916  \n",
       "0 -0.1     0 -0.578615  "
      ]
     },
     "execution_count": 55,
     "metadata": {},
     "output_type": "execute_result"
    }
   ],
   "source": [
    "guild.runs().compare().sort_values(by=\"loss\")[:3]"
   ]
  },
  {
   "cell_type": "markdown",
   "metadata": {},
   "source": [
    "Based on our mock training function, the \"best\" result (i.e. the run with the lowest *loss*) should be the run where `x` is close to `-0.3`. Because there's a random component (i.e. the `noise` parameter) your results may show best results with different values for `x`.\n",
    "\n",
    "Below is an image that plots *loss* for values of *x*, showing the lowest loss where x is approximately `-0.3`.\n",
    "\n",
    "<img src=\"bayesian-optimization.png\" style=\"margin-left:0\">\n",
    "\n",
    "[Image credit: *Bayesian optimization with skopt*](https://scikit-optimize.github.io/notebooks/bayesian-optimization.html)"
   ]
  },
  {
   "cell_type": "markdown",
   "metadata": {},
   "source": [
    "## Random search\n",
    "\n",
    "Random search is a method used in machine learning to explore hyperparameter spaces at random.\n",
    "\n",
    "To run a series of runs using random values over a specified range, use the `slice` function to specify a range for a flag. To specify the number of trials, specify `_max_trials`. The default number of trials is `20`.\n",
    "\n",
    "Run train five times with random values of `x` over the range `-2.0` to `2.0`."
   ]
  },
  {
   "cell_type": "code",
   "execution_count": 56,
   "metadata": {},
   "outputs": [
    {
     "name": "stdout",
     "output_type": "stream",
     "text": [
      "Running train (noise=0.1, x=1.7770005973382155):\n",
      "loss: 0.066694\n",
      "Running train (noise=0.1, x=-0.015538373916255566):\n",
      "loss: -0.054769\n",
      "Running train (noise=0.1, x=-0.019494672607218266):\n",
      "loss: -0.316245\n",
      "Running train (noise=0.1, x=-0.5594065062475779):\n",
      "loss: -0.317656\n",
      "Running train (noise=0.1, x=0.5916846182595901):\n",
      "loss: 0.240205\n"
     ]
    }
   ],
   "source": [
    "_ = guild.run(train, x=slice(-2.0,2.0), _max_trials=5)"
   ]
  },
  {
   "cell_type": "markdown",
   "metadata": {},
   "source": [
    "Compare the results again."
   ]
  },
  {
   "cell_type": "code",
   "execution_count": 57,
   "metadata": {},
   "outputs": [
    {
     "data": {
      "text/html": [
       "<div>\n",
       "<style scoped>\n",
       "    .dataframe tbody tr th:only-of-type {\n",
       "        vertical-align: middle;\n",
       "    }\n",
       "\n",
       "    .dataframe tbody tr th {\n",
       "        vertical-align: top;\n",
       "    }\n",
       "\n",
       "    .dataframe thead th {\n",
       "        text-align: right;\n",
       "    }\n",
       "</style>\n",
       "<table border=\"1\" class=\"dataframe\">\n",
       "  <thead>\n",
       "    <tr style=\"text-align: right;\">\n",
       "      <th></th>\n",
       "      <th>run</th>\n",
       "      <th>operation</th>\n",
       "      <th>started</th>\n",
       "      <th>time</th>\n",
       "      <th>status</th>\n",
       "      <th>label</th>\n",
       "      <th>noise</th>\n",
       "      <th>x</th>\n",
       "      <th>step</th>\n",
       "      <th>loss</th>\n",
       "    </tr>\n",
       "  </thead>\n",
       "  <tbody>\n",
       "    <tr>\n",
       "      <th>0</th>\n",
       "      <td>87f6c574</td>\n",
       "      <td>train()</td>\n",
       "      <td>2019-05-20 06:43:48</td>\n",
       "      <td>0:00:00</td>\n",
       "      <td>completed</td>\n",
       "      <td>random</td>\n",
       "      <td>0.1</td>\n",
       "      <td>0.591685</td>\n",
       "      <td>0</td>\n",
       "      <td>0.240205</td>\n",
       "    </tr>\n",
       "    <tr>\n",
       "      <th>1</th>\n",
       "      <td>87f6c573</td>\n",
       "      <td>train()</td>\n",
       "      <td>2019-05-20 06:43:48</td>\n",
       "      <td>0:00:00</td>\n",
       "      <td>completed</td>\n",
       "      <td>random</td>\n",
       "      <td>0.1</td>\n",
       "      <td>-0.559407</td>\n",
       "      <td>0</td>\n",
       "      <td>-0.317656</td>\n",
       "    </tr>\n",
       "    <tr>\n",
       "      <th>2</th>\n",
       "      <td>87f6c572</td>\n",
       "      <td>train()</td>\n",
       "      <td>2019-05-20 06:43:48</td>\n",
       "      <td>0:00:00</td>\n",
       "      <td>completed</td>\n",
       "      <td>random</td>\n",
       "      <td>0.1</td>\n",
       "      <td>-0.019495</td>\n",
       "      <td>0</td>\n",
       "      <td>-0.316245</td>\n",
       "    </tr>\n",
       "    <tr>\n",
       "      <th>3</th>\n",
       "      <td>87f6c571</td>\n",
       "      <td>train()</td>\n",
       "      <td>2019-05-20 06:43:48</td>\n",
       "      <td>0:00:00</td>\n",
       "      <td>completed</td>\n",
       "      <td>random</td>\n",
       "      <td>0.1</td>\n",
       "      <td>-0.015538</td>\n",
       "      <td>0</td>\n",
       "      <td>-0.054769</td>\n",
       "    </tr>\n",
       "    <tr>\n",
       "      <th>4</th>\n",
       "      <td>87f6c570</td>\n",
       "      <td>train()</td>\n",
       "      <td>2019-05-20 06:43:48</td>\n",
       "      <td>0:00:00</td>\n",
       "      <td>completed</td>\n",
       "      <td>random</td>\n",
       "      <td>0.1</td>\n",
       "      <td>1.777001</td>\n",
       "      <td>0</td>\n",
       "      <td>0.066694</td>\n",
       "    </tr>\n",
       "    <tr>\n",
       "      <th>5</th>\n",
       "      <td>80a7905a</td>\n",
       "      <td>train()</td>\n",
       "      <td>2019-05-20 06:43:36</td>\n",
       "      <td>0:00:00</td>\n",
       "      <td>completed</td>\n",
       "      <td></td>\n",
       "      <td>0.1</td>\n",
       "      <td>-0.100000</td>\n",
       "      <td>0</td>\n",
       "      <td>-0.578615</td>\n",
       "    </tr>\n",
       "    <tr>\n",
       "      <th>6</th>\n",
       "      <td>80a79059</td>\n",
       "      <td>train()</td>\n",
       "      <td>2019-05-20 06:43:36</td>\n",
       "      <td>0:00:00</td>\n",
       "      <td>completed</td>\n",
       "      <td></td>\n",
       "      <td>0.1</td>\n",
       "      <td>-0.200000</td>\n",
       "      <td>0</td>\n",
       "      <td>-0.738916</td>\n",
       "    </tr>\n",
       "    <tr>\n",
       "      <th>7</th>\n",
       "      <td>80a79058</td>\n",
       "      <td>train()</td>\n",
       "      <td>2019-05-20 06:43:36</td>\n",
       "      <td>0:00:00</td>\n",
       "      <td>completed</td>\n",
       "      <td></td>\n",
       "      <td>0.1</td>\n",
       "      <td>-0.300000</td>\n",
       "      <td>0</td>\n",
       "      <td>-0.854539</td>\n",
       "    </tr>\n",
       "    <tr>\n",
       "      <th>8</th>\n",
       "      <td>80a79057</td>\n",
       "      <td>train()</td>\n",
       "      <td>2019-05-20 06:43:36</td>\n",
       "      <td>0:00:00</td>\n",
       "      <td>completed</td>\n",
       "      <td></td>\n",
       "      <td>0.1</td>\n",
       "      <td>-0.400000</td>\n",
       "      <td>0</td>\n",
       "      <td>-0.532630</td>\n",
       "    </tr>\n",
       "    <tr>\n",
       "      <th>9</th>\n",
       "      <td>80a79056</td>\n",
       "      <td>train()</td>\n",
       "      <td>2019-05-20 06:43:36</td>\n",
       "      <td>0:00:00</td>\n",
       "      <td>completed</td>\n",
       "      <td></td>\n",
       "      <td>0.1</td>\n",
       "      <td>-0.500000</td>\n",
       "      <td>0</td>\n",
       "      <td>-0.449091</td>\n",
       "    </tr>\n",
       "    <tr>\n",
       "      <th>10</th>\n",
       "      <td>7c5a8f1c</td>\n",
       "      <td>train()</td>\n",
       "      <td>2019-05-20 06:43:28</td>\n",
       "      <td>0:00:00</td>\n",
       "      <td>completed</td>\n",
       "      <td>run 2</td>\n",
       "      <td>0.1</td>\n",
       "      <td>0.200000</td>\n",
       "      <td>0</td>\n",
       "      <td>0.893944</td>\n",
       "    </tr>\n",
       "    <tr>\n",
       "      <th>11</th>\n",
       "      <td>65842834</td>\n",
       "      <td>train()</td>\n",
       "      <td>2019-05-20 06:42:50</td>\n",
       "      <td>0:00:00</td>\n",
       "      <td>completed</td>\n",
       "      <td></td>\n",
       "      <td>0.1</td>\n",
       "      <td>0.100000</td>\n",
       "      <td>0</td>\n",
       "      <td>0.574138</td>\n",
       "    </tr>\n",
       "  </tbody>\n",
       "</table>\n",
       "</div>"
      ],
      "text/plain": [
       "         run operation             started     time     status   label  noise  \\\n",
       "0   87f6c574   train() 2019-05-20 06:43:48  0:00:00  completed  random    0.1   \n",
       "1   87f6c573   train() 2019-05-20 06:43:48  0:00:00  completed  random    0.1   \n",
       "2   87f6c572   train() 2019-05-20 06:43:48  0:00:00  completed  random    0.1   \n",
       "3   87f6c571   train() 2019-05-20 06:43:48  0:00:00  completed  random    0.1   \n",
       "4   87f6c570   train() 2019-05-20 06:43:48  0:00:00  completed  random    0.1   \n",
       "5   80a7905a   train() 2019-05-20 06:43:36  0:00:00  completed            0.1   \n",
       "6   80a79059   train() 2019-05-20 06:43:36  0:00:00  completed            0.1   \n",
       "7   80a79058   train() 2019-05-20 06:43:36  0:00:00  completed            0.1   \n",
       "8   80a79057   train() 2019-05-20 06:43:36  0:00:00  completed            0.1   \n",
       "9   80a79056   train() 2019-05-20 06:43:36  0:00:00  completed            0.1   \n",
       "10  7c5a8f1c   train() 2019-05-20 06:43:28  0:00:00  completed   run 2    0.1   \n",
       "11  65842834   train() 2019-05-20 06:42:50  0:00:00  completed            0.1   \n",
       "\n",
       "           x  step      loss  \n",
       "0   0.591685     0  0.240205  \n",
       "1  -0.559407     0 -0.317656  \n",
       "2  -0.019495     0 -0.316245  \n",
       "3  -0.015538     0 -0.054769  \n",
       "4   1.777001     0  0.066694  \n",
       "5  -0.100000     0 -0.578615  \n",
       "6  -0.200000     0 -0.738916  \n",
       "7  -0.300000     0 -0.854539  \n",
       "8  -0.400000     0 -0.532630  \n",
       "9  -0.500000     0 -0.449091  \n",
       "10  0.200000     0  0.893944  \n",
       "11  0.100000     0  0.574138  "
      ]
     },
     "execution_count": 57,
     "metadata": {},
     "output_type": "execute_result"
    }
   ],
   "source": [
    "guild.runs().compare()"
   ]
  },
  {
   "cell_type": "markdown",
   "metadata": {},
   "source": [
    "List the three runs with the lowest loss:"
   ]
  },
  {
   "cell_type": "code",
   "execution_count": 58,
   "metadata": {},
   "outputs": [
    {
     "data": {
      "text/html": [
       "<div>\n",
       "<style scoped>\n",
       "    .dataframe tbody tr th:only-of-type {\n",
       "        vertical-align: middle;\n",
       "    }\n",
       "\n",
       "    .dataframe tbody tr th {\n",
       "        vertical-align: top;\n",
       "    }\n",
       "\n",
       "    .dataframe thead th {\n",
       "        text-align: right;\n",
       "    }\n",
       "</style>\n",
       "<table border=\"1\" class=\"dataframe\">\n",
       "  <thead>\n",
       "    <tr style=\"text-align: right;\">\n",
       "      <th></th>\n",
       "      <th>run</th>\n",
       "      <th>operation</th>\n",
       "      <th>started</th>\n",
       "      <th>time</th>\n",
       "      <th>status</th>\n",
       "      <th>label</th>\n",
       "      <th>noise</th>\n",
       "      <th>x</th>\n",
       "      <th>step</th>\n",
       "      <th>loss</th>\n",
       "    </tr>\n",
       "  </thead>\n",
       "  <tbody>\n",
       "    <tr>\n",
       "      <th>7</th>\n",
       "      <td>80a79058</td>\n",
       "      <td>train()</td>\n",
       "      <td>2019-05-20 06:43:36</td>\n",
       "      <td>0:00:00</td>\n",
       "      <td>completed</td>\n",
       "      <td></td>\n",
       "      <td>0.1</td>\n",
       "      <td>-0.3</td>\n",
       "      <td>0</td>\n",
       "      <td>-0.854539</td>\n",
       "    </tr>\n",
       "    <tr>\n",
       "      <th>6</th>\n",
       "      <td>80a79059</td>\n",
       "      <td>train()</td>\n",
       "      <td>2019-05-20 06:43:36</td>\n",
       "      <td>0:00:00</td>\n",
       "      <td>completed</td>\n",
       "      <td></td>\n",
       "      <td>0.1</td>\n",
       "      <td>-0.2</td>\n",
       "      <td>0</td>\n",
       "      <td>-0.738916</td>\n",
       "    </tr>\n",
       "    <tr>\n",
       "      <th>5</th>\n",
       "      <td>80a7905a</td>\n",
       "      <td>train()</td>\n",
       "      <td>2019-05-20 06:43:36</td>\n",
       "      <td>0:00:00</td>\n",
       "      <td>completed</td>\n",
       "      <td></td>\n",
       "      <td>0.1</td>\n",
       "      <td>-0.1</td>\n",
       "      <td>0</td>\n",
       "      <td>-0.578615</td>\n",
       "    </tr>\n",
       "  </tbody>\n",
       "</table>\n",
       "</div>"
      ],
      "text/plain": [
       "        run operation             started     time     status label  noise  \\\n",
       "7  80a79058   train() 2019-05-20 06:43:36  0:00:00  completed          0.1   \n",
       "6  80a79059   train() 2019-05-20 06:43:36  0:00:00  completed          0.1   \n",
       "5  80a7905a   train() 2019-05-20 06:43:36  0:00:00  completed          0.1   \n",
       "\n",
       "     x  step      loss  \n",
       "7 -0.3     0 -0.854539  \n",
       "6 -0.2     0 -0.738916  \n",
       "5 -0.1     0 -0.578615  "
      ]
     },
     "execution_count": 58,
     "metadata": {},
     "output_type": "execute_result"
    }
   ],
   "source": [
    "guild.runs().compare().sort_values(by=\"loss\")[:3]"
   ]
  },
  {
   "cell_type": "markdown",
   "metadata": {},
   "source": [
    "## Bayesian optimization\n",
    "\n",
    "Bayesian optimizers use light weight models as surrogates for the target model — surrogates that can be evaluated quickly to recommend likely optimal hyperparameter values — and update those models using results from real trials."
   ]
  },
  {
   "cell_type": "markdown",
   "metadata": {},
   "source": [
    "Run `train` with Guild’s built-in Bayesian optimizer, which uses Gaussian processes. As with the earlier random search, we use Python's slice function to specify the range for `x` over which to search.\n",
    "\n",
    "**NOTE:** The argument `bayesian` in the command is an alias for `gp`, which is a Bayesian optimizer that uses Gaussian processes. Guild supports three Bayesian optimizers: gp, forest and gbrt."
   ]
  },
  {
   "cell_type": "code",
   "execution_count": 59,
   "metadata": {},
   "outputs": [
    {
     "name": "stdout",
     "output_type": "stream",
     "text": [
      "Running train (noise=0.1, x=1.5152199989091168):\n",
      "loss: -0.024619\n",
      "Running train (noise=0.1, x=-2.0):\n",
      "loss: 0.039181\n",
      "Running train (noise=0.1, x=2.0):\n",
      "loss: -0.005486\n",
      "Running train (noise=0.1, x=2.0):\n",
      "loss: -0.118952\n",
      "Running train (noise=0.1, x=2.0):\n",
      "loss: -0.094768\n",
      "Running train (noise=0.1, x=0.28882433942547214):\n",
      "loss: 1.044828\n",
      "Running train (noise=0.1, x=1.784311230545803):\n",
      "loss: -0.035496\n",
      "Running train (noise=0.1, x=-1.3192316849061574):\n",
      "loss: -0.025329\n",
      "Running train (noise=0.1, x=-0.8729053512489384):\n",
      "loss: 0.364873\n",
      "Running train (noise=0.1, x=-1.6124201016843505):\n",
      "loss: 0.072872\n"
     ]
    }
   ],
   "source": [
    "_ = guild.run(train, x=slice(-2.0,2.0), _optimizer=\"bayesian\", _max_trials=10)"
   ]
  },
  {
   "cell_type": "markdown",
   "metadata": {},
   "source": [
    "View the top 10 results:"
   ]
  },
  {
   "cell_type": "code",
   "execution_count": 60,
   "metadata": {},
   "outputs": [
    {
     "data": {
      "text/html": [
       "<div>\n",
       "<style scoped>\n",
       "    .dataframe tbody tr th:only-of-type {\n",
       "        vertical-align: middle;\n",
       "    }\n",
       "\n",
       "    .dataframe tbody tr th {\n",
       "        vertical-align: top;\n",
       "    }\n",
       "\n",
       "    .dataframe thead th {\n",
       "        text-align: right;\n",
       "    }\n",
       "</style>\n",
       "<table border=\"1\" class=\"dataframe\">\n",
       "  <thead>\n",
       "    <tr style=\"text-align: right;\">\n",
       "      <th></th>\n",
       "      <th>run</th>\n",
       "      <th>operation</th>\n",
       "      <th>started</th>\n",
       "      <th>time</th>\n",
       "      <th>status</th>\n",
       "      <th>label</th>\n",
       "      <th>noise</th>\n",
       "      <th>x</th>\n",
       "      <th>step</th>\n",
       "      <th>loss</th>\n",
       "    </tr>\n",
       "  </thead>\n",
       "  <tbody>\n",
       "    <tr>\n",
       "      <th>17</th>\n",
       "      <td>80a79058</td>\n",
       "      <td>train()</td>\n",
       "      <td>2019-05-20 06:43:36</td>\n",
       "      <td>0:00:00</td>\n",
       "      <td>completed</td>\n",
       "      <td></td>\n",
       "      <td>0.1</td>\n",
       "      <td>-0.300000</td>\n",
       "      <td>0</td>\n",
       "      <td>-0.854539</td>\n",
       "    </tr>\n",
       "    <tr>\n",
       "      <th>16</th>\n",
       "      <td>80a79059</td>\n",
       "      <td>train()</td>\n",
       "      <td>2019-05-20 06:43:36</td>\n",
       "      <td>0:00:00</td>\n",
       "      <td>completed</td>\n",
       "      <td></td>\n",
       "      <td>0.1</td>\n",
       "      <td>-0.200000</td>\n",
       "      <td>0</td>\n",
       "      <td>-0.738916</td>\n",
       "    </tr>\n",
       "    <tr>\n",
       "      <th>15</th>\n",
       "      <td>80a7905a</td>\n",
       "      <td>train()</td>\n",
       "      <td>2019-05-20 06:43:36</td>\n",
       "      <td>0:00:00</td>\n",
       "      <td>completed</td>\n",
       "      <td></td>\n",
       "      <td>0.1</td>\n",
       "      <td>-0.100000</td>\n",
       "      <td>0</td>\n",
       "      <td>-0.578615</td>\n",
       "    </tr>\n",
       "    <tr>\n",
       "      <th>18</th>\n",
       "      <td>80a79057</td>\n",
       "      <td>train()</td>\n",
       "      <td>2019-05-20 06:43:36</td>\n",
       "      <td>0:00:00</td>\n",
       "      <td>completed</td>\n",
       "      <td></td>\n",
       "      <td>0.1</td>\n",
       "      <td>-0.400000</td>\n",
       "      <td>0</td>\n",
       "      <td>-0.532630</td>\n",
       "    </tr>\n",
       "    <tr>\n",
       "      <th>19</th>\n",
       "      <td>80a79056</td>\n",
       "      <td>train()</td>\n",
       "      <td>2019-05-20 06:43:36</td>\n",
       "      <td>0:00:00</td>\n",
       "      <td>completed</td>\n",
       "      <td></td>\n",
       "      <td>0.1</td>\n",
       "      <td>-0.500000</td>\n",
       "      <td>0</td>\n",
       "      <td>-0.449091</td>\n",
       "    </tr>\n",
       "    <tr>\n",
       "      <th>11</th>\n",
       "      <td>87f6c573</td>\n",
       "      <td>train()</td>\n",
       "      <td>2019-05-20 06:43:48</td>\n",
       "      <td>0:00:00</td>\n",
       "      <td>completed</td>\n",
       "      <td>random</td>\n",
       "      <td>0.1</td>\n",
       "      <td>-0.559407</td>\n",
       "      <td>0</td>\n",
       "      <td>-0.317656</td>\n",
       "    </tr>\n",
       "    <tr>\n",
       "      <th>12</th>\n",
       "      <td>87f6c572</td>\n",
       "      <td>train()</td>\n",
       "      <td>2019-05-20 06:43:48</td>\n",
       "      <td>0:00:00</td>\n",
       "      <td>completed</td>\n",
       "      <td>random</td>\n",
       "      <td>0.1</td>\n",
       "      <td>-0.019495</td>\n",
       "      <td>0</td>\n",
       "      <td>-0.316245</td>\n",
       "    </tr>\n",
       "    <tr>\n",
       "      <th>6</th>\n",
       "      <td>94f2f32a</td>\n",
       "      <td>train()</td>\n",
       "      <td>2019-05-20 06:44:10</td>\n",
       "      <td>0:00:00</td>\n",
       "      <td>completed</td>\n",
       "      <td>gp</td>\n",
       "      <td>0.1</td>\n",
       "      <td>2.000000</td>\n",
       "      <td>0</td>\n",
       "      <td>-0.118952</td>\n",
       "    </tr>\n",
       "    <tr>\n",
       "      <th>5</th>\n",
       "      <td>94f2f32b</td>\n",
       "      <td>train()</td>\n",
       "      <td>2019-05-20 06:44:10</td>\n",
       "      <td>0:00:00</td>\n",
       "      <td>completed</td>\n",
       "      <td>gp</td>\n",
       "      <td>0.1</td>\n",
       "      <td>2.000000</td>\n",
       "      <td>0</td>\n",
       "      <td>-0.094768</td>\n",
       "    </tr>\n",
       "    <tr>\n",
       "      <th>13</th>\n",
       "      <td>87f6c571</td>\n",
       "      <td>train()</td>\n",
       "      <td>2019-05-20 06:43:48</td>\n",
       "      <td>0:00:00</td>\n",
       "      <td>completed</td>\n",
       "      <td>random</td>\n",
       "      <td>0.1</td>\n",
       "      <td>-0.015538</td>\n",
       "      <td>0</td>\n",
       "      <td>-0.054769</td>\n",
       "    </tr>\n",
       "  </tbody>\n",
       "</table>\n",
       "</div>"
      ],
      "text/plain": [
       "         run operation             started     time     status   label  noise  \\\n",
       "17  80a79058   train() 2019-05-20 06:43:36  0:00:00  completed            0.1   \n",
       "16  80a79059   train() 2019-05-20 06:43:36  0:00:00  completed            0.1   \n",
       "15  80a7905a   train() 2019-05-20 06:43:36  0:00:00  completed            0.1   \n",
       "18  80a79057   train() 2019-05-20 06:43:36  0:00:00  completed            0.1   \n",
       "19  80a79056   train() 2019-05-20 06:43:36  0:00:00  completed            0.1   \n",
       "11  87f6c573   train() 2019-05-20 06:43:48  0:00:00  completed  random    0.1   \n",
       "12  87f6c572   train() 2019-05-20 06:43:48  0:00:00  completed  random    0.1   \n",
       "6   94f2f32a   train() 2019-05-20 06:44:10  0:00:00  completed      gp    0.1   \n",
       "5   94f2f32b   train() 2019-05-20 06:44:10  0:00:00  completed      gp    0.1   \n",
       "13  87f6c571   train() 2019-05-20 06:43:48  0:00:00  completed  random    0.1   \n",
       "\n",
       "           x  step      loss  \n",
       "17 -0.300000     0 -0.854539  \n",
       "16 -0.200000     0 -0.738916  \n",
       "15 -0.100000     0 -0.578615  \n",
       "18 -0.400000     0 -0.532630  \n",
       "19 -0.500000     0 -0.449091  \n",
       "11 -0.559407     0 -0.317656  \n",
       "12 -0.019495     0 -0.316245  \n",
       "6   2.000000     0 -0.118952  \n",
       "5   2.000000     0 -0.094768  \n",
       "13 -0.015538     0 -0.054769  "
      ]
     },
     "execution_count": 60,
     "metadata": {},
     "output_type": "execute_result"
    }
   ],
   "source": [
    "guild.runs().compare().sort_values(by=\"loss\")[:10]"
   ]
  },
  {
   "cell_type": "markdown",
   "metadata": {},
   "source": [
    "## Next steps\n",
    "\n",
    "This Notebook covers basic functionality provided by the `guild.ipy` module. The module lets you run functions and capture results as unique runs. You can view and compare run results using various module functions.\n",
    "\n",
    "Generated runs can be further managed using the Guild command line interface. For more information, refer to [Guild AI Quick Start](https://guild.ai/docs/start/)."
   ]
  }
 ],
 "metadata": {
  "kernelspec": {
   "display_name": "guild",
   "language": "python",
   "name": "guild-test-123"
  },
  "language_info": {
   "codemirror_mode": {
    "name": "ipython",
    "version": 2
   },
   "file_extension": ".py",
   "mimetype": "text/x-python",
   "name": "python",
   "nbconvert_exporter": "python",
   "pygments_lexer": "ipython2",
   "version": "2.7.12"
  }
 },
 "nbformat": 4,
 "nbformat_minor": 2
}
